{
 "cells": [
  {
   "cell_type": "markdown",
   "id": "1606b669-4ba2-4ab5-bb94-9d88c547b99c",
   "metadata": {},
   "source": [
    "# 01. PyTorch Workflow Fundamentals"
   ]
  },
  {
   "cell_type": "markdown",
   "id": "9b771ef2-7c06-4d1e-9107-80af81787d05",
   "metadata": {},
   "source": [
    "The core idea of **machine learning** and **deep learning** is:\n",
    "\n",
    "> Take some data from the past, train an algorithm (such as a neural network) to discover patterns in it, and then use those patterns to make predictions about the future.\n",
    "\n",
    "There are many ways to do this, and new approaches are being discovered all the time.\n",
    "\n",
    "But let’s start small.\n",
    "\n",
    "👉 Imagine we have a **straight line**. Our goal will be to build a PyTorch model that learns the pattern of that line and matches it.\n",
    "\n",
    "---\n",
    "\n",
    "## 🔑 PyTorch Workflow Steps\n",
    "\n",
    "### 1. Getting Data Ready\n",
    "\n",
    "Every machine learning project starts with data. In PyTorch, data can come in many forms: numbers, images, text, audio, and more.\n",
    "\n",
    "For our example, we’ll create a **simple dataset representing a straight line**. This gives us something easy to work with while learning how PyTorch handles data.\n",
    "\n",
    "---\n",
    "\n",
    "### 2. Building a Model\n",
    "\n",
    "A model in PyTorch is like a **function with learnable parameters**. Its job is to take inputs (our data), apply transformations, and return predictions.\n",
    "\n",
    "When building a model, we also define:\n",
    "\n",
    "* **Loss function** → measures how far off the model’s predictions are from the actual data.\n",
    "* **Optimizer** → tells PyTorch how to update the model’s parameters to improve predictions.\n",
    "* **Training loop** → a process that runs many times, allowing the model to learn patterns step by step.\n",
    "\n",
    "---\n",
    "\n",
    "### 3. Fitting the Model to Data (Training)\n",
    "\n",
    "Training means **showing the model examples and letting it adjust its parameters to reduce the loss**.\n",
    "\n",
    "* We pass the training data into the model.\n",
    "* The model makes predictions.\n",
    "* The loss function compares predictions to the actual values.\n",
    "* The optimizer updates the parameters to make the model better.\n",
    "\n",
    "This loop repeats many times until the model learns the underlying pattern.\n",
    "\n",
    "---\n",
    "\n",
    "### 4. Making Predictions and Evaluating (Inference)\n",
    "\n",
    "Once trained, the model can make predictions on new or unseen data. This is called **inference**.\n",
    "\n",
    "Evaluation means checking **how well the model’s predictions match the true values**. For our straight-line example, we’ll see how close the model’s line is to the actual line.\n",
    "\n",
    "---\n",
    "\n",
    "### 5. Saving and Loading a Model\n",
    "\n",
    "Training a model can take time, so it’s useful to save it once it has learned.\n",
    "\n",
    "* **Saving** → store the model’s parameters (weights).\n",
    "* **Loading** → bring the model back later without retraining.\n",
    "\n",
    "This makes it possible to use the same model across projects or share it with others.\n",
    "\n",
    "---\n",
    "\n",
    "### 6. Putting It All Together\n",
    "\n",
    "Finally, we combine all the steps into a **complete workflow**:\n",
    "\n",
    "1. Prepare the data\n",
    "2. Build the model\n",
    "3. Train the model\n",
    "4. Evaluate the model\n",
    "5. Save/load the model\n",
    "\n",
    "This workflow forms the foundation of working with PyTorch. The same process works whether you’re predicting a straight line, classifying images, or building advanced neural networks."
   ]
  },
  {
   "cell_type": "code",
   "execution_count": 1,
   "id": "06119ab7-06dc-4954-a8b1-68ee193c4679",
   "metadata": {},
   "outputs": [],
   "source": [
    "what_were_covering = {1: \"data (prepare and load)\",\n",
    "    2: \"build model\",\n",
    "    3: \"fitting the model to data (training)\",\n",
    "    4: \"making predictions and evaluating a model (inference)\",\n",
    "    5: \"saving and loading a model\",\n",
    "    6: \"putting it all together\"\n",
    "}"
   ]
  },
  {
   "cell_type": "code",
   "execution_count": 2,
   "id": "bf5fea61-860c-4323-bf7f-e2ae2894d0e7",
   "metadata": {},
   "outputs": [
    {
     "data": {
      "text/plain": [
       "{1: 'data (prepare and load)',\n",
       " 2: 'build model',\n",
       " 3: 'fitting the model to data (training)',\n",
       " 4: 'making predictions and evaluating a model (inference)',\n",
       " 5: 'saving and loading a model',\n",
       " 6: 'putting it all together'}"
      ]
     },
     "execution_count": 2,
     "metadata": {},
     "output_type": "execute_result"
    }
   ],
   "source": [
    "what_were_covering"
   ]
  },
  {
   "cell_type": "code",
   "execution_count": 3,
   "id": "b1832887-a9e8-44d0-91ea-a9a5c73f0471",
   "metadata": {},
   "outputs": [
    {
     "data": {
      "text/plain": [
       "'2.2.2'"
      ]
     },
     "execution_count": 3,
     "metadata": {},
     "output_type": "execute_result"
    }
   ],
   "source": [
    "import torch\n",
    "from torch import nn\n",
    "import matplotlib.pyplot as plt\n",
    "\n",
    "torch.__version__"
   ]
  },
  {
   "cell_type": "code",
   "execution_count": 4,
   "id": "25af7b00-c782-46fc-b8e8-80fe1ca67826",
   "metadata": {},
   "outputs": [],
   "source": [
    "# Create *known* parameters\n",
    "weight = 0.7\n",
    "bias = 0.3\n",
    "\n",
    "# Create data\n",
    "start = 0\n",
    "end = 1\n",
    "step = 0.02\n",
    "X = torch.arange(start, end, step).unsqueeze(dim=1)\n",
    "y = weight * X + bias\n",
    "\n",
    "# X[:10], y[:10]"
   ]
  },
  {
   "cell_type": "code",
   "execution_count": 5,
   "id": "1922aad6-a363-45cf-82ca-9241ab7154b9",
   "metadata": {},
   "outputs": [
    {
     "data": {
      "text/plain": [
       "torch.Size([50, 1])"
      ]
     },
     "execution_count": 5,
     "metadata": {},
     "output_type": "execute_result"
    }
   ],
   "source": [
    "X.shape"
   ]
  },
  {
   "cell_type": "markdown",
   "id": "abc51d74-bcb9-4299-b48b-951766789392",
   "metadata": {},
   "source": [
    "## 📝 Notes: Features and Labels\n",
    "\n",
    "In machine learning, data is usually split into two parts:\n",
    "\n",
    "### **1. Features (X)**\n",
    "\n",
    "* Also called **inputs**, **independent variables**, or **predictors**.\n",
    "* These are the pieces of information we give to the model so it can learn patterns.\n",
    "* Example:\n",
    "\n",
    "  * In predicting house prices → size, number of rooms, location.\n",
    "  * In our straight-line example → values of `x` along the line.\n",
    "\n",
    "---\n",
    "\n",
    "### **2. Labels (y)**\n",
    "\n",
    "* Also called **targets**, **outputs**, or **dependent variables**.\n",
    "* These are the values we want the model to predict.\n",
    "* Example:\n",
    "\n",
    "  * In predicting house prices → the actual price of the house.\n",
    "  * In our straight-line example → values of `y` that match the line.\n",
    "\n",
    "---\n",
    "\n",
    "👉 Together:\n",
    "\n",
    "* **X (features)** → what the model sees.\n",
    "* **y (labels)** → what the model tries to predict.\n",
    "\n",
    "The model’s job is to learn the relationship between **X** and **y** so that when it sees new **X values**, it can correctly predict the corresponding **y values**."
   ]
  },
  {
   "cell_type": "markdown",
   "id": "5f9f412d-826d-49f7-b491-383adc42fc58",
   "metadata": {},
   "source": [
    "# 📊 Splitting Data into Training and Test Sets\n",
    "\n",
    "Before building a machine learning model, one of the **most important steps** is to split the dataset into different parts. This helps us train the model properly and then check how well it performs on unseen data.\n",
    "\n",
    "### Why do we split the data?\n",
    "\n",
    "* If we only trained and tested on the **same data**, the model could just memorize it (overfitting), instead of actually learning patterns.\n",
    "* By splitting, we make sure the model **learns** on one set (training) and is **evaluated** on another (testing).\n",
    "\n",
    "---\n",
    "\n",
    "### Common Data Splits\n",
    "\n",
    "| **Split**          | **Purpose**                                                                    | **Amount of total data** | **How often is it used?** |\n",
    "| ------------------ | ------------------------------------------------------------------------------ | ------------------------ | ------------------------- |\n",
    "| **Training set**   | The model learns from this data (like studying course materials).              | \\~60–80%                 | Always                    |\n",
    "| **Validation set** | Used to fine-tune the model (like taking a practice exam before the final).    | \\~10–20%                 | Often, but not always     |\n",
    "| **Testing set**    | Used to evaluate the model’s performance on unseen data (like the final exam). | \\~10–20%                 | Always                    |\n",
    "\n",
    "---\n",
    "\n",
    "### In Our Case\n",
    "\n",
    "For now, we’ll just use a **training set** and a **test set**:\n",
    "\n",
    "* **Training set** → The model learns patterns here.\n",
    "* **Test set** → We check how well the model has learned by comparing predictions against this unseen data.\n",
    "\n",
    "---\n",
    "\n",
    "### ⚠️ Important Note\n",
    "\n",
    "When working with **real-world datasets**, splitting is usually done **right at the start** of a project.\n",
    "\n",
    "* The **test set should always remain separate** and never be used for training.\n",
    "* This ensures that the final evaluation truly reflects how well the model generalizes to **new, unseen examples**."
   ]
  },
  {
   "cell_type": "code",
   "execution_count": 6,
   "id": "598868a8-2bc9-4259-aef9-f02d354f2834",
   "metadata": {},
   "outputs": [
    {
     "data": {
      "text/plain": [
       "(40, 40, 10, 10)"
      ]
     },
     "execution_count": 6,
     "metadata": {},
     "output_type": "execute_result"
    }
   ],
   "source": [
    "train_split = int(0.8 * len(X))\n",
    "\n",
    "X_train, y_train = X[:train_split], y[:train_split]\n",
    "X_test, y_test = X[train_split:], y[train_split:]\n",
    "\n",
    "len(X_train), len(y_train), len(X_test), len(y_test)"
   ]
  },
  {
   "cell_type": "code",
   "execution_count": 7,
   "id": "db183c26-4292-4cc2-800a-8c9e875880ec",
   "metadata": {},
   "outputs": [],
   "source": [
    "def plot_predictions(train_data=X_train,\n",
    "                    train_labels=y_train,\n",
    "                    test_data=X_test,\n",
    "                    test_labels=y_test,\n",
    "                    predictions=None):\n",
    "    \"\"\"\n",
    "     Plots training data, test data and compares predictions.\n",
    "    \"\"\"\n",
    "    plt.figure(figsize=(10, 7))\n",
    "\n",
    "    # Plot training data in blue\n",
    "    plt.scatter(train_data, train_labels, c=\"b\", s=4, label=\"Training data\")\n",
    "\n",
    "    # Plot test data in green\n",
    "    plt.scatter(test_data, test_labels, c=\"g\", s=4, label=\"Testing data\")\n",
    "\n",
    "    if predictions is not None:\n",
    "        plt.scatter(test_data, predictions, c=\"r\", s=4, label=\"Predictions\")\n",
    "\n",
    "\n",
    "    plt.legend(prop={\"size\": 14})"
   ]
  },
  {
   "cell_type": "code",
   "execution_count": 8,
   "id": "d41d15bf-53dd-4e9a-9192-616acbbe4da6",
   "metadata": {},
   "outputs": [
    {
     "data": {
      "image/png": "[encoded data removed]",
      "text/plain": [
       "<Figure size 1000x700 with 1 Axes>"
      ]
     },
     "metadata": {},
     "output_type": "display_data"
    }
   ],
   "source": [
    "plot_predictions()"
   ]
  },
  {
   "cell_type": "code",
   "execution_count": 9,
   "id": "c9d79a38-c7d5-4ef2-9d89-0f5092c7712f",
   "metadata": {},
   "outputs": [],
   "source": [
    "class LinearRegressionModel(nn.Module):\n",
    "    def __init__(self):\n",
    "        super().__init__()\n",
    "\n",
    "        self.weights = nn.Parameter(torch.randn(1, dtype=torch.float),\n",
    "                                    requires_grad=True)\n",
    "\n",
    "        self.bias = nn.Parameter(torch.randn(1, dtype=torch.float),\n",
    "                                requires_grad=True)\n",
    "\n",
    "    def forward(self, x: torch.Tensor) -> torch.Tensor:\n",
    "        return self.weights * x + bias"
   ]
  },
  {
   "cell_type": "code",
   "execution_count": 10,
   "id": "48ab6694-4124-4760-83b2-d04cde3879a9",
   "metadata": {},
   "outputs": [
    {
     "name": "stdout",
     "output_type": "stream",
     "text": [
      "Model paramenters: [Parameter containing:\n",
      "tensor([0.3367], requires_grad=True), Parameter containing:\n",
      "tensor([0.1288], requires_grad=True)] \n",
      "\n",
      "Model state dict: OrderedDict([('weights', tensor([0.3367])), ('bias', tensor([0.1288]))])\n"
     ]
    }
   ],
   "source": [
    "SEED = 42\n",
    "\n",
    "manual_seed = torch.manual_seed(seed=SEED)\n",
    "\n",
    "model_0 = LinearRegressionModel()\n",
    "\n",
    "print(f\"Model paramenters: {list(model_0.parameters())} \\n\")\n",
    "print(f\"Model state dict: {model_0.state_dict()}\")"
   ]
  },
  {
   "cell_type": "code",
   "execution_count": 11,
   "id": "6a430126-68f0-4392-aec2-ccf8269baeb1",
   "metadata": {},
   "outputs": [],
   "source": [
    "with torch.inference_mode():\n",
    "    y_preds = model_0(X_test)"
   ]
  },
  {
   "cell_type": "code",
   "execution_count": 12,
   "id": "fdc8a37c-c93e-4117-bafd-d41adcd8ae8b",
   "metadata": {},
   "outputs": [],
   "source": [
    "# y_preds"
   ]
  },
  {
   "cell_type": "code",
   "execution_count": 13,
   "id": "ce8c8b62-1ef9-48ee-bdc1-1347d326e0ef",
   "metadata": {},
   "outputs": [
    {
     "data": {
      "image/png": "[encoded data removed]",
      "text/plain": [
       "<Figure size 1000x700 with 1 Axes>"
      ]
     },
     "metadata": {},
     "output_type": "display_data"
    }
   ],
   "source": [
    "plot_predictions(predictions=y_preds)"
   ]
  },
  {
   "cell_type": "code",
   "execution_count": 14,
   "id": "717920f5-167c-41d7-8b53-a99899293a76",
   "metadata": {},
   "outputs": [
    {
     "name": "stdout",
     "output_type": "stream",
     "text": [
      "Number of testing samples: 10\n",
      "Number of predictions made: 10\n",
      "Predicted values:\n",
      "tensor([[0.5694],\n",
      "        [0.5761],\n",
      "        [0.5828],\n",
      "        [0.5896],\n",
      "        [0.5963],\n",
      "        [0.6030],\n",
      "        [0.6098],\n",
      "        [0.6165],\n",
      "        [0.6232],\n",
      "        [0.6300]])\n"
     ]
    }
   ],
   "source": [
    "# Check the predictions\n",
    "print(f\"Number of testing samples: {len(X_test)}\") \n",
    "print(f\"Number of predictions made: {len(y_preds)}\")\n",
    "print(f\"Predicted values:\\n{y_preds}\")"
   ]
  },
  {
   "cell_type": "code",
   "execution_count": 15,
   "id": "3c3a4be4-33fe-4619-a305-5095820e17fe",
   "metadata": {},
   "outputs": [
    {
     "data": {
      "text/plain": [
       "tensor([[0.2906],\n",
       "        [0.2979],\n",
       "        [0.3052],\n",
       "        [0.3124],\n",
       "        [0.3197],\n",
       "        [0.3270],\n",
       "        [0.3342],\n",
       "        [0.3415],\n",
       "        [0.3488],\n",
       "        [0.3560]])"
      ]
     },
     "execution_count": 15,
     "metadata": {},
     "output_type": "execute_result"
    }
   ],
   "source": [
    "y_test - y_preds"
   ]
  },
  {
   "cell_type": "markdown",
   "id": "70709d25-3a9c-44a4-a7dc-ca9204364195",
   "metadata": {},
   "source": [
    "# 🔹 Loss Functions and Optimizers in PyTorch\n",
    "\n",
    "When building a machine learning model, simply having **weights and biases** isn’t enough.\n",
    "We need two important components to make the model **learn**:\n",
    "\n",
    "1. **Loss function** → tells us *how wrong* the model is.\n",
    "2. **Optimizer** → tells the model *how to adjust its weights and biases* to improve.\n",
    "\n",
    "---\n",
    "\n",
    "## 1. Loss Function 📉\n",
    "\n",
    "* **Definition:** A loss function measures the difference between the model’s predictions (`y_pred`) and the actual values (`y_true`).\n",
    "* **Goal:** Make this number as **low as possible** → the lower the loss, the better the model’s predictions.\n",
    "\n",
    "### Common Loss Functions:\n",
    "\n",
    "1. **Mean Absolute Error (MAE)** – `torch.nn.L1Loss()`\n",
    "\n",
    "   * Used for **regression problems** (predicting continuous values, like house prices).\n",
    "   * It calculates the **average absolute difference** between predictions and targets.\n",
    "   * Intuition: *\"On average, how far off are we from the true values?\"*\n",
    "\n",
    "   Example:\n",
    "\n",
    "   $$\n",
    "   MAE = \\frac{1}{n} \\sum |y_{true} - y_{pred}|\n",
    "   $$\n",
    "\n",
    "---\n",
    "\n",
    "2. **Binary Cross Entropy (BCE)** – `torch.nn.BCELoss()`\n",
    "\n",
    "   * Used for **binary classification problems** (yes/no, spam/not spam, cat/dog).\n",
    "   * It compares predicted probabilities (between 0 and 1) with actual labels (0 or 1).\n",
    "   * Intuition: *\"How well is the model predicting true probabilities?\"*\n",
    "   * Works well with a **sigmoid activation function** in the final layer.\n",
    "\n",
    "   Example:\n",
    "\n",
    "   $$\n",
    "   BCE = - \\frac{1}{n} \\sum \\big[y_{true}\\log(y_{pred}) + (1-y_{true})\\log(1-y_{pred})\\big]\n",
    "   $$\n",
    "\n",
    "---\n",
    "\n",
    "## 2. Optimizer ⚡\n",
    "\n",
    "* **Definition:** The optimizer updates the model’s weights and biases to **reduce the loss** using gradient descent.\n",
    "* **Goal:** Adjust parameters step by step until the model learns good patterns.\n",
    "\n",
    "### Common Optimizers:\n",
    "\n",
    "1. **Stochastic Gradient Descent (SGD)** – `torch.optim.SGD()`\n",
    "\n",
    "   * The most basic optimizer.\n",
    "   * Updates weights using small steps in the opposite direction of the gradient.\n",
    "   * Often requires careful tuning of the **learning rate**.\n",
    "   * Works well for simple problems.\n",
    "\n",
    "   Update rule:\n",
    "\n",
    "   $$\n",
    "   w = w - \\eta \\cdot \\nabla L\n",
    "   $$\n",
    "\n",
    "   where $\\eta$ = learning rate, $\\nabla L$ = gradient of loss.\n",
    "\n",
    "---\n",
    "\n",
    "2. **Adam Optimizer** – `torch.optim.Adam()`\n",
    "\n",
    "   * One of the most popular optimizers.\n",
    "   * Combines the ideas of **momentum** (remembers past gradients) and **adaptive learning rates** (adjusts learning rate for each parameter).\n",
    "   * Usually works **better and faster** than plain SGD.\n",
    "   * Often a good “default” choice when starting a new project.\n",
    "\n",
    "---\n",
    "\n",
    "## ✅ Quick Summary\n",
    "\n",
    "* **Loss Function** = *how wrong are we?*\n",
    "\n",
    "  * MAE → for regression.\n",
    "  * BCE → for binary classification.\n",
    "\n",
    "* **Optimizer** = *how do we improve?*\n",
    "\n",
    "  * SGD → simple, slower, but foundational.\n",
    "  * Adam → smarter, faster, often better for complex problems.\n",
    "\n",
    "# 🔹 What is Learning Rate?\n",
    "\n",
    "The **learning rate** is one of the most important hyperparameters in training a neural network.\n",
    "\n",
    "It controls **how big a step** the optimizer takes when updating the model’s weights and biases.\n",
    "\n",
    "---\n",
    "\n",
    "## ✨ Intuition\n",
    "\n",
    "* Imagine you’re **climbing down a hill** (minimizing the loss).\n",
    "* Each step you take is guided by the slope (the gradient).\n",
    "* The **learning rate** decides *how long each step is*:\n",
    "\n",
    "  * **Too big (high learning rate):** You might overshoot and never reach the bottom (model won’t learn).\n",
    "  * **Too small (low learning rate):** You’ll take tiny steps, moving very slowly, and training takes forever.\n",
    "  * **Just right:** You’ll reach the bottom efficiently without bouncing around too much.\n",
    "\n",
    "---\n",
    "\n",
    "## 🧮 Formula (Weight Update)\n",
    "\n",
    "$$\n",
    "w = w - \\eta \\cdot \\nabla L\n",
    "$$\n",
    "\n",
    "* $w$ = weight\n",
    "* $\\eta$ = **learning rate**\n",
    "* $\\nabla L$ = gradient of the loss\n",
    "\n",
    "---\n",
    "\n",
    "## 🔹 Example:\n",
    "\n",
    "* Learning rate = **0.1** → big steps → might jump over the solution.\n",
    "* Learning rate = **0.0001** → tiny steps → slow learning.\n",
    "* Learning rate = **0.01** → often a good starting point.\n",
    "\n",
    "---\n",
    "\n",
    "## ✅ Rule of Thumb\n",
    "\n",
    "* Start with `0.001` or `0.01` (common defaults in PyTorch and TensorFlow).\n",
    "* If training is unstable (loss bouncing up and down), **lower the learning rate**.\n",
    "* If training is too slow (loss decreasing very slowly), **increase the learning rate**.\n"
   ]
  },
  {
   "cell_type": "code",
   "execution_count": 16,
   "id": "492e4d7f-b4b0-4bc3-9daf-c11f88ff7da3",
   "metadata": {},
   "outputs": [],
   "source": [
    "loss_fn = nn.L1Loss()\n",
    "\n",
    "optimizer = torch.optim.SGD(params=model_0.parameters(), lr=0.01)"
   ]
  },
  {
   "cell_type": "markdown",
   "id": "0383120c-0d26-43f6-8f35-073a206ffab7",
   "metadata": {},
   "source": [
    "# 🔄 PyTorch Training Loop\n",
    "\n",
    "Training a PyTorch model usually follows the same **five key steps**. Each step ensures the model learns by improving its weights and biases.\n",
    "\n",
    "---\n",
    "\n",
    "## **1. Forward Pass**\n",
    "\n",
    "➡️ The input data is passed through the model.\n",
    "➡️ The model performs calculations (`forward()` function) to generate predictions.\n",
    "\n",
    "```python\n",
    "y_pred = model(x_train)\n",
    "```\n",
    "\n",
    "---\n",
    "\n",
    "## **2. Calculate the Loss**\n",
    "\n",
    "➡️ The predictions are compared against the true labels.\n",
    "➡️ The **loss function** measures how far off the predictions are.\n",
    "\n",
    "```python\n",
    "loss = loss_fn(y_pred, y_train)\n",
    "```\n",
    "\n",
    "---\n",
    "\n",
    "## **3. Zero the Gradients**\n",
    "\n",
    "➡️ By default, PyTorch **accumulates gradients** after every backward pass.\n",
    "➡️ We reset them to zero before calculating new gradients.\n",
    "\n",
    "```python\n",
    "optimizer.zero_grad()\n",
    "```\n",
    "\n",
    "---\n",
    "\n",
    "## **4. Backpropagation (Backward Pass)**\n",
    "\n",
    "➡️ Compute the gradient of the loss with respect to each model parameter (`weights` & `biases`).\n",
    "➡️ This step tells the model *which direction* to move to reduce the loss.\n",
    "\n",
    "```python\n",
    "loss.backward()\n",
    "```\n",
    "\n",
    "---\n",
    "\n",
    "## **5. Update Parameters (Optimizer Step)**\n",
    "\n",
    "➡️ The optimizer updates the model’s parameters using the calculated gradients.\n",
    "➡️ This is where **gradient descent** (or a variant like Adam/SGD) happens.\n",
    "\n",
    "```python\n",
    "optimizer.step()\n",
    "```\n",
    "\n",
    "---\n",
    "\n",
    "# 🔑 Summary of the Loop\n",
    "\n",
    "1. **Forward pass** → Make predictions.\n",
    "2. **Loss calculation** → Compare predictions vs. truth.\n",
    "3. **Zero gradients** → Reset old gradients.\n",
    "4. **Backward pass** → Calculate new gradients.\n",
    "5. **Optimizer step** → Update weights to improve predictions.\n",
    "\n",
    "This loop repeats for multiple **epochs** until the model learns patterns in the data."
   ]
  },
  {
   "cell_type": "code",
   "execution_count": 17,
   "id": "88cfae2c-bd4c-459a-a41b-007c3eb34c69",
   "metadata": {},
   "outputs": [
    {
     "name": "stdout",
     "output_type": "stream",
     "text": [
      "Epoch: 0 | MAE Train Loss: 0.14169074594974518 | MAE Test Loss: 0.3198745846748352 \n",
      "Epoch: 10 | MAE Train Loss: 0.12648078799247742 | MAE Test Loss: 0.28516465425491333 \n",
      "Epoch: 20 | MAE Train Loss: 0.11127082258462906 | MAE Test Loss: 0.25045472383499146 \n",
      "Epoch: 30 | MAE Train Loss: 0.0960608422756195 | MAE Test Loss: 0.21574480831623077 \n",
      "Epoch: 40 | MAE Train Loss: 0.08085088431835175 | MAE Test Loss: 0.1810348629951477 \n",
      "Epoch: 50 | MAE Train Loss: 0.06564091145992279 | MAE Test Loss: 0.14632496237754822 \n",
      "Epoch: 60 | MAE Train Loss: 0.050430942326784134 | MAE Test Loss: 0.11161501705646515 \n",
      "Epoch: 70 | MAE Train Loss: 0.035220976918935776 | MAE Test Loss: 0.07690508663654327 \n",
      "Epoch: 80 | MAE Train Loss: 0.02001100964844227 | MAE Test Loss: 0.04219517856836319 \n",
      "Epoch: 90 | MAE Train Loss: 0.004801043774932623 | MAE Test Loss: 0.007485252805054188 \n"
     ]
    }
   ],
   "source": [
    "torch.manual_seed(seed=SEED)\n",
    "\n",
    "epoch = 100\n",
    "\n",
    "# Create empty loss lists to track values\n",
    "train_loss_values = []\n",
    "test_loss_values = []\n",
    "epoch_count = []\n",
    "\n",
    "for epoch in range(epoch):\n",
    "    ## Training \n",
    "    \n",
    "    # Put model in training mode (this is the default state of a model)\n",
    "    model_0.train()\n",
    "\n",
    "    # 1. Forward pass on train data using the forward() method inside\n",
    "    y_pred = model_0(X_train)\n",
    "\n",
    "\n",
    "    # 2. Calculate the loss (how different are our models predictions to the ground truth)\n",
    "    loss = loss_fn(y_pred, y_train)\n",
    "\n",
    "    # 3. Zero grad for optimizer \n",
    "    optimizer.zero_grad()\n",
    "\n",
    "    # 4. Loss backwards\n",
    "    loss.backward()\n",
    "\n",
    "    # 5. Optimizer step\n",
    "    optimizer.step()\n",
    "\n",
    "    # Put the model in evaluation mode\n",
    "    model_0.eval()\n",
    "\n",
    "    with torch.inference_mode():\n",
    "        # 1. Make predictions\n",
    "        test_pred = model_0(X_test)\n",
    "\n",
    "        # 2. Calculate loss on the test data\n",
    "        test_loss = loss_fn(test_pred, y_test.type(torch.float))\n",
    "\n",
    "        # Print out what's happening\n",
    "        if epoch % 10 == 0:\n",
    "            epoch_count.append(epoch)\n",
    "            train_loss_values.append(loss.detach().numpy())\n",
    "            test_loss_values.append(test_loss.detach().numpy())\n",
    "            \n",
    "            print(f\"Epoch: {epoch} | MAE Train Loss: {loss} | MAE Test Loss: {test_loss} \")    "
   ]
  },
  {
   "cell_type": "code",
   "execution_count": 18,
   "id": "e8d3bef8-dc55-4d59-b43a-6639fbd231c7",
   "metadata": {},
   "outputs": [
    {
     "data": {
      "image/png": "[encoded data removed]",
      "text/plain": [
       "<Figure size 640x480 with 1 Axes>"
      ]
     },
     "metadata": {},
     "output_type": "display_data"
    }
   ],
   "source": [
    "plt.plot(epoch_count, train_loss_values, label=\"Train loss\")\n",
    "plt.plot(epoch_count, test_loss_values, label=\"Test loss\")\n",
    "plt.title(\"Training and test loss curves\")\n",
    "plt.ylabel(\"Loss\")\n",
    "plt.xlabel(\"Epochs\")\n",
    "plt.legend();"
   ]
  },
  {
   "cell_type": "code",
   "execution_count": 19,
   "id": "02f4335d-7b72-4249-a84b-f7711eefbfe5",
   "metadata": {},
   "outputs": [
    {
     "name": "stdout",
     "output_type": "stream",
     "text": [
      "The model learned the following values for weights and bias:\n",
      "OrderedDict([('weights', tensor([0.7033])), ('bias', tensor([0.1288]))])\n"
     ]
    }
   ],
   "source": [
    "print(\"The model learned the following values for weights and bias:\")\n",
    "print(model_0.state_dict())"
   ]
  },
  {
   "cell_type": "code",
   "execution_count": 20,
   "id": "616e078e-7785-4543-a1dd-49ae21601e01",
   "metadata": {},
   "outputs": [
    {
     "data": {
      "text/plain": [
       "(tensor([[0.8626],\n",
       "         [0.8767],\n",
       "         [0.8908],\n",
       "         [0.9048],\n",
       "         [0.9189],\n",
       "         [0.9330],\n",
       "         [0.9470],\n",
       "         [0.9611],\n",
       "         [0.9752],\n",
       "         [0.9892]]),\n",
       " tensor([[0.8600],\n",
       "         [0.8740],\n",
       "         [0.8880],\n",
       "         [0.9020],\n",
       "         [0.9160],\n",
       "         [0.9300],\n",
       "         [0.9440],\n",
       "         [0.9580],\n",
       "         [0.9720],\n",
       "         [0.9860]]))"
      ]
     },
     "execution_count": 20,
     "metadata": {},
     "output_type": "execute_result"
    }
   ],
   "source": [
    "model_0.eval()\n",
    "\n",
    "with torch.inference_mode():\n",
    "    y_preds = model_0(X_test)\n",
    "\n",
    "y_preds, y_test"
   ]
  },
  {
   "cell_type": "code",
   "execution_count": 21,
   "id": "51ba3fa2-2488-4e5a-b863-40658d864459",
   "metadata": {},
   "outputs": [
    {
     "data": {
      "image/png": "[encoded data removed]",
      "text/plain": [
       "<Figure size 1000x700 with 1 Axes>"
      ]
     },
     "metadata": {},
     "output_type": "display_data"
    }
   ],
   "source": [
    "plot_predictions(predictions=y_preds)"
   ]
  },
  {
   "cell_type": "code",
   "execution_count": 22,
   "id": "46d3bc0e-8c15-43cf-bd50-dc72f32cb2e2",
   "metadata": {},
   "outputs": [
    {
     "name": "stdout",
     "output_type": "stream",
     "text": [
      "Saving model to: models/01_pytorch_workflow_model_0.pth\n"
     ]
    }
   ],
   "source": [
    "from pathlib import Path\n",
    "\n",
    "MODEL_PATH = Path('models')\n",
    "MODEL_PATH.mkdir(parents=True, exist_ok=True)\n",
    "\n",
    "MODEL_NAME = \"01_pytorch_workflow_model_0.pth\"\n",
    "\n",
    "MODEL_SAVE_PATH = MODEL_PATH / MODEL_NAME\n",
    "\n",
    "# 3. Save the model state dict \n",
    "print(f\"Saving model to: {MODEL_SAVE_PATH}\")\n",
    "torch.save(obj=model_0.state_dict(), \n",
    "           f=MODEL_SAVE_PATH)"
   ]
  },
  {
   "cell_type": "code",
   "execution_count": 23,
   "id": "7cdb636b-ca78-4812-93ba-031c0bbcb3b9",
   "metadata": {},
   "outputs": [
    {
     "data": {
      "text/plain": [
       "tensor([[True],\n",
       "        [True],\n",
       "        [True],\n",
       "        [True],\n",
       "        [True],\n",
       "        [True],\n",
       "        [True],\n",
       "        [True],\n",
       "        [True],\n",
       "        [True]])"
      ]
     },
     "execution_count": 23,
     "metadata": {},
     "output_type": "execute_result"
    }
   ],
   "source": [
    "loaded_model_0 = LinearRegressionModel()\n",
    "\n",
    "loaded_model_0.load_state_dict(torch.load(f=MODEL_SAVE_PATH))\n",
    "\n",
    "loaded_model_0.eval()\n",
    "\n",
    "with torch.inference_mode():\n",
    "    loaded_model_preds = loaded_model_0(X_test) \n",
    "\n",
    "y_preds == loaded_model_preds"
   ]
  },
  {
   "cell_type": "code",
   "execution_count": 24,
   "id": "9a67c521-4045-45ed-a4ba-4e0c479e6c2f",
   "metadata": {},
   "outputs": [],
   "source": [
    "device = \"mps\" if torch.backends.mps.is_available() else \"cpu\""
   ]
  },
  {
   "cell_type": "code",
   "execution_count": 25,
   "id": "22ee080e-e833-4d4b-88b4-138bc1289c39",
   "metadata": {},
   "outputs": [
    {
     "name": "stdout",
     "output_type": "stream",
     "text": [
      "Using device: mps\n"
     ]
    }
   ],
   "source": [
    "print(f\"Using device: {device}\")"
   ]
  },
  {
   "cell_type": "code",
   "execution_count": 26,
   "id": "95047db5-5566-4de4-a013-e0bd1d5049e3",
   "metadata": {},
   "outputs": [],
   "source": [
    "# Create weight and bias\n",
    "weight = 0.7\n",
    "bias = 0.3\n",
    "\n",
    "# Create range values\n",
    "start = 0\n",
    "end = 1\n",
    "step = 0.02\n",
    "\n",
    "# Create X and y (features and labels)\n",
    "X = torch.arange(start, end, step).unsqueeze(dim=1) # without unsqueeze, errors will happen later on (shapes within linear layers)\n",
    "y = weight * X + bias \n",
    "# X[:10], y[:10]"
   ]
  },
  {
   "cell_type": "code",
   "execution_count": 27,
   "id": "e9371df6-7430-4775-8fa5-1657b5df7d2a",
   "metadata": {},
   "outputs": [
    {
     "data": {
      "text/plain": [
       "(40, 40, 10, 10)"
      ]
     },
     "execution_count": 27,
     "metadata": {},
     "output_type": "execute_result"
    }
   ],
   "source": [
    "# Split data\n",
    "train_split = int(0.8 * len(X))\n",
    "X_train, y_train = X[:train_split], y[:train_split]\n",
    "X_test, y_test = X[train_split:], y[train_split:]\n",
    "\n",
    "len(X_train), len(y_train), len(X_test), len(y_test)"
   ]
  },
  {
   "cell_type": "code",
   "execution_count": 28,
   "id": "24166854-7892-437f-a47f-caa43e6bb86e",
   "metadata": {},
   "outputs": [
    {
     "data": {
      "image/png": "[encoded data removed]",
      "text/plain": [
       "<Figure size 1000x700 with 1 Axes>"
      ]
     },
     "metadata": {},
     "output_type": "display_data"
    }
   ],
   "source": [
    "plot_predictions(X_train, y_train, X_test, y_test)"
   ]
  },
  {
   "cell_type": "code",
   "execution_count": 29,
   "id": "59aef8e5-3a03-40d6-984b-acba12d3816d",
   "metadata": {},
   "outputs": [],
   "source": [
    "class LinearRegressionModelV2(nn.Module):\n",
    "    def __init__(self):\n",
    "        super().__init__()\n",
    "\n",
    "        self.liner_layer = nn.Linear(in_features=1, out_features=1)\n",
    "\n",
    "    def forward(self, x: torch.Tensor) -> torch.Tensor:\n",
    "        return self.liner_layer(x)"
   ]
  },
  {
   "cell_type": "code",
   "execution_count": 30,
   "id": "d21274f8-cecc-4eda-b027-372bb6743fc2",
   "metadata": {},
   "outputs": [
    {
     "data": {
      "text/plain": [
       "(LinearRegressionModelV2(\n",
       "   (liner_layer): Linear(in_features=1, out_features=1, bias=True)\n",
       " ),\n",
       " OrderedDict([('liner_layer.weight', tensor([[0.7645]])),\n",
       "              ('liner_layer.bias', tensor([0.8300]))]))"
      ]
     },
     "execution_count": 30,
     "metadata": {},
     "output_type": "execute_result"
    }
   ],
   "source": [
    "torch.manual_seed(42)\n",
    "model_1 = LinearRegressionModelV2()\n",
    "model_1, model_1.state_dict()"
   ]
  },
  {
   "cell_type": "code",
   "execution_count": 31,
   "id": "f015abd7-b671-4d0a-8c68-4af8553c1401",
   "metadata": {},
   "outputs": [
    {
     "data": {
      "text/plain": [
       "device(type='cpu')"
      ]
     },
     "execution_count": 31,
     "metadata": {},
     "output_type": "execute_result"
    }
   ],
   "source": [
    "next(model_1.parameters()).device"
   ]
  },
  {
   "cell_type": "code",
   "execution_count": 32,
   "id": "600c08e7-1b13-4d3e-beb5-fc419305998e",
   "metadata": {},
   "outputs": [
    {
     "data": {
      "text/plain": [
       "device(type='mps', index=0)"
      ]
     },
     "execution_count": 32,
     "metadata": {},
     "output_type": "execute_result"
    }
   ],
   "source": [
    "model_1.to(device)\n",
    "next(model_1.parameters()).device"
   ]
  },
  {
   "cell_type": "code",
   "execution_count": 33,
   "id": "0a46c0b1-a146-446a-b6eb-dc376d3454a5",
   "metadata": {},
   "outputs": [],
   "source": [
    "loss_fn = nn.L1Loss()\n",
    "\n",
    "optimizer = torch.optim.SGD(params=model_1.parameters(), lr=0.01)"
   ]
  },
  {
   "cell_type": "code",
   "execution_count": 34,
   "id": "e9eb1d19-d01a-4aaa-a0be-4d8066f4301a",
   "metadata": {},
   "outputs": [
    {
     "name": "stdout",
     "output_type": "stream",
     "text": [
      "Epoch: 0 | Train loss: 0.5551779270172119 | Test loss: 0.5739762783050537\n",
      "Epoch: 100 | Train loss: 0.0062156799249351025 | Test loss: 0.014086711220443249\n",
      "Epoch: 200 | Train loss: 0.0012645035749301314 | Test loss: 0.013801807537674904\n",
      "Epoch: 300 | Train loss: 0.0012645035749301314 | Test loss: 0.013801807537674904\n",
      "Epoch: 400 | Train loss: 0.0012645035749301314 | Test loss: 0.013801807537674904\n",
      "Epoch: 500 | Train loss: 0.0012645035749301314 | Test loss: 0.013801807537674904\n",
      "Epoch: 600 | Train loss: 0.0012645035749301314 | Test loss: 0.013801807537674904\n",
      "Epoch: 700 | Train loss: 0.0012645035749301314 | Test loss: 0.013801807537674904\n",
      "Epoch: 800 | Train loss: 0.0012645035749301314 | Test loss: 0.013801807537674904\n",
      "Epoch: 900 | Train loss: 0.0012645035749301314 | Test loss: 0.013801807537674904\n"
     ]
    }
   ],
   "source": [
    "torch.manual_seed(seed=SEED)\n",
    "\n",
    "epochs = 1000 \n",
    "\n",
    "# X_train = X_train.to(device)\n",
    "X_train = X_train.to(device)\n",
    "X_test = X_test.to(device)\n",
    "y_train = y_train.to(device)\n",
    "y_test = y_test.to(device)\n",
    "\n",
    "for epoch in range(epochs):\n",
    "    model_1.train()\n",
    "\n",
    "    y_pred = model_1(X_train)\n",
    "\n",
    "    loss = loss_fn(y_pred, y_train)\n",
    "\n",
    "    optimizer.zero_grad()\n",
    "\n",
    "    loss.backward()\n",
    "\n",
    "    optimizer.step()\n",
    "\n",
    "    model_1.eval()\n",
    "\n",
    "    with torch.inference_mode():\n",
    "        test_pred = model_1(X_test)\n",
    "    \n",
    "        # 2. Calculate the loss\n",
    "        test_loss = loss_fn(test_pred, y_test)\n",
    "\n",
    "\n",
    "        if epoch % 100 == 0:\n",
    "            print(f\"Epoch: {epoch} | Train loss: {loss} | Test loss: {test_loss}\")"
   ]
  },
  {
   "cell_type": "code",
   "execution_count": 35,
   "id": "080d87da-f510-4c66-80b4-653a9083a70e",
   "metadata": {},
   "outputs": [
    {
     "name": "stdout",
     "output_type": "stream",
     "text": [
      "The model learned the following values for weights and bias:\n",
      "OrderedDict([('liner_layer.weight', tensor([[0.6968]], device='mps:0')),\n",
      "             ('liner_layer.bias', tensor([0.3025], device='mps:0'))])\n",
      "\n",
      "And the original values for weights and bias are:\n",
      "weights: 0.7, bias: 0.3\n"
     ]
    }
   ],
   "source": [
    "from pprint import pprint # pprint = pretty print, see: https://docs.python.org/3/library/pprint.html \n",
    "print(\"The model learned the following values for weights and bias:\")\n",
    "pprint(model_1.state_dict())\n",
    "print(\"\\nAnd the original values for weights and bias are:\")\n",
    "print(f\"weights: {weight}, bias: {bias}\")"
   ]
  },
  {
   "cell_type": "code",
   "execution_count": 36,
   "id": "85be0868-e171-4e7d-aa8a-a3527796aed2",
   "metadata": {},
   "outputs": [
    {
     "data": {
      "text/plain": [
       "tensor([[0.8600],\n",
       "        [0.8739],\n",
       "        [0.8878],\n",
       "        [0.9018],\n",
       "        [0.9157],\n",
       "        [0.9296],\n",
       "        [0.9436],\n",
       "        [0.9575],\n",
       "        [0.9714],\n",
       "        [0.9854]], device='mps:0')"
      ]
     },
     "execution_count": 36,
     "metadata": {},
     "output_type": "execute_result"
    }
   ],
   "source": [
    "# Turn model into evaluation mode\n",
    "model_1.eval()\n",
    "\n",
    "# Make predictions on the test data\n",
    "with torch.inference_mode():\n",
    "    y_preds = model_1(X_test)\n",
    "y_preds"
   ]
  },
  {
   "cell_type": "code",
   "execution_count": 39,
   "id": "305eefe2-5308-4f8e-a8eb-8b98fe67bfa8",
   "metadata": {},
   "outputs": [
    {
     "data": {
      "image/png": "[encoded data removed]",
      "text/plain": [
       "<Figure size 1000x700 with 1 Axes>"
      ]
     },
     "metadata": {},
     "output_type": "display_data"
    }
   ],
   "source": [
    "plot_predictions(predictions=y_preds.cpu())"
   ]
  },
  {
   "cell_type": "code",
   "execution_count": 40,
   "id": "7a776b3a-2e11-4d62-8f73-221d29562080",
   "metadata": {},
   "outputs": [
    {
     "name": "stdout",
     "output_type": "stream",
     "text": [
      "Saving model to: models/01_pytorch_workflow_model_1.pth\n"
     ]
    }
   ],
   "source": [
    "from pathlib import Path\n",
    "\n",
    "# 1. Create models directory \n",
    "MODEL_PATH = Path(\"models\")\n",
    "MODEL_PATH.mkdir(parents=True, exist_ok=True)\n",
    "\n",
    "# 2. Create model save path \n",
    "MODEL_NAME = \"01_pytorch_workflow_model_1.pth\"\n",
    "MODEL_SAVE_PATH = MODEL_PATH / MODEL_NAME\n",
    "\n",
    "# 3. Save the model state dict \n",
    "print(f\"Saving model to: {MODEL_SAVE_PATH}\")\n",
    "torch.save(obj=model_1.state_dict(), # only saving the state_dict() only saves the models learned parameters\n",
    "           f=MODEL_SAVE_PATH)"
   ]
  },
  {
   "cell_type": "code",
   "execution_count": 41,
   "id": "fda058db-c320-4d50-9c6a-07658ab2222c",
   "metadata": {},
   "outputs": [
    {
     "name": "stdout",
     "output_type": "stream",
     "text": [
      "Loaded model:\n",
      "LinearRegressionModelV2(\n",
      "  (liner_layer): Linear(in_features=1, out_features=1, bias=True)\n",
      ")\n",
      "Model on device:\n",
      "mps:0\n"
     ]
    }
   ],
   "source": [
    "# Instantiate a fresh instance of LinearRegressionModelV2\n",
    "loaded_model_1 = LinearRegressionModelV2()\n",
    "\n",
    "# Load model state dict \n",
    "loaded_model_1.load_state_dict(torch.load(MODEL_SAVE_PATH))\n",
    "\n",
    "# Put model to target device (if your data is on GPU, model will have to be on GPU to make predictions)\n",
    "loaded_model_1.to(device)\n",
    "\n",
    "print(f\"Loaded model:\\n{loaded_model_1}\")\n",
    "print(f\"Model on device:\\n{next(loaded_model_1.parameters()).device}\")"
   ]
  },
  {
   "cell_type": "code",
   "execution_count": null,
   "id": "a1b06ccb-e129-4b9e-b6ed-d2867d361c65",
   "metadata": {},
   "outputs": [],
   "source": []
  },
  {
   "cell_type": "code",
   "execution_count": null,
   "id": "4f7dbb05-fdc3-4851-b8b2-d7ea862501eb",
   "metadata": {},
   "outputs": [],
   "source": []
  }
 ],
 "metadata": {
  "kernelspec": {
   "display_name": "Python (env_pytorch)",
   "language": "python",
   "name": "env_pytorch"
  },
  "language_info": {
   "codemirror_mode": {
    "name": "ipython",
    "version": 3
   },
   "file_extension": ".py",
   "mimetype": "text/x-python",
   "name": "python",
   "nbconvert_exporter": "python",
   "pygments_lexer": "ipython3",
   "version": "3.9.23"
  }
 },
 "nbformat": 4,
 "nbformat_minor": 5
}
