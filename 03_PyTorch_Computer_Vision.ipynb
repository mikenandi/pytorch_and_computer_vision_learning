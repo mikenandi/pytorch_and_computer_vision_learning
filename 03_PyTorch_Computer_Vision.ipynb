{
 "cells": [
  {
   "cell_type": "markdown",
   "id": "ae182f46-fe32-498d-b159-36ec55d6e835",
   "metadata": {},
   "source": [
    "# 03. PyTorch Computer Vision\n",
    "\n",
    "``Computer vision is the art of teaching a computer to see.``\n",
    "\n",
    "**Computer Vision** is the field of artificial intelligence (AI) that focuses on teaching computers to “see,” understand, and interpret visual information from the world around us. Just as humans use their eyes and brain to make sense of images, shapes, and patterns, computer vision enables machines to process and analyze images or videos to extract meaningful insights.\n",
    "\n",
    "---\n",
    "\n",
    "### 🔹 Examples of Computer Vision Problems\n",
    "\n",
    "* **Binary Classification**\n",
    "  Classifying an image into one of **two categories**, e.g., determining if a photo is of a **cat** or a **dog**.\n",
    "\n",
    "* **Multi-Class Classification**\n",
    "  Classifying an image into **more than two categories**, e.g., determining if a photo is of a **cat, dog, or chicken**.\n",
    "\n",
    "* **Object Detection**\n",
    "  Identifying and locating specific objects within an image or video frame, e.g., detecting **where a car** is in a traffic camera feed.\n",
    "\n",
    "* **Semantic Segmentation**\n",
    "  Classifying every pixel in an image into a category, e.g., labeling all pixels that belong to the **road, car, pedestrian, or sky**.\n",
    "\n",
    "* **Instance Segmentation**\n",
    "  A step further than semantic segmentation, where each object instance is uniquely identified (e.g., **three cars in the same frame**, each marked separately).\n",
    "\n",
    "* **Panoptic Segmentation**\n",
    "  A combination of **semantic** and **instance segmentation**, providing a holistic view by classifying pixels and separating object instances at the same time.\n",
    "\n",
    "---\n",
    "\n",
    "### 🔹 Where is Computer Vision Used?\n",
    "\n",
    "Computer vision is **everywhere** — if you use a smartphone or modern technology, you’ve likely already interacted with it.\n",
    "\n",
    "* **Smartphones & Apps**\n",
    "  Camera and photo apps use computer vision for **face recognition, photo enhancement, augmented reality (AR), and automatic categorization** of images.\n",
    "\n",
    "* **Autonomous Vehicles**\n",
    "  Modern cars use computer vision to **detect lane lines, recognize traffic signs, avoid collisions, and identify pedestrians**.\n",
    "\n",
    "* **Manufacturing & Industry**\n",
    "  Automated inspection systems use computer vision to **spot defects**, improve quality control, and enhance efficiency.\n",
    "\n",
    "* **Healthcare**\n",
    "  Used in **medical imaging** to detect diseases, assist in diagnosis (e.g., tumor detection in MRI scans), and support doctors in decision-making.\n",
    "\n",
    "* **Security & Surveillance**\n",
    "  Security cameras apply computer vision to **recognize faces, detect intruders, or identify suspicious activity**.\n",
    "\n",
    "* **Retail & E-Commerce**\n",
    "  Computer vision powers **visual search, inventory tracking, cashier-less checkout systems, and personalized recommendations**.\n",
    "\n",
    "* **Agriculture**\n",
    "  Drones and sensors use vision systems to **monitor crop health, detect weeds, and optimize farming practices**.\n",
    "\n",
    "---\n",
    "\n",
    "### 🔹 Why is Computer Vision Important?\n",
    "\n",
    "* **Scalability** → Automates tasks that would take humans a lot of time (e.g., analyzing thousands of images).\n",
    "* **Precision** → Can often detect patterns or anomalies that humans might miss.\n",
    "* **Innovation** → Powers cutting-edge technologies like **self-driving cars, augmented/virtual reality, robotics, and medical AI tools**.\n",
    "\n",
    "---\n",
    "\n",
    "✅ In short, **anything that can be described visually can be transformed into a computer vision problem.**"
   ]
  },
  {
   "cell_type": "code",
   "execution_count": 1,
   "id": "87def9bf-3a0e-4d05-9eb5-de65007f5468",
   "metadata": {},
   "outputs": [
    {
     "name": "stdout",
     "output_type": "stream",
     "text": [
      "PyTorch version: 2.2.2\n",
      "Torchvision version: 0.17.2\n"
     ]
    }
   ],
   "source": [
    "# Pytorch import\n",
    "import torch\n",
    "from torch import nn\n",
    "\n",
    "\n",
    "# Torchvision import\n",
    "import torchvision\n",
    "from torchvision import datasets\n",
    "from torchvision.transforms import ToTensor\n",
    "\n",
    "# For visualizations\n",
    "import matplotlib.pyplot as plt\n",
    "\n",
    "\n",
    "print(f\"PyTorch version: {torch.__version__}\\nTorchvision version: {torchvision.__version__}\")"
   ]
  },
  {
   "cell_type": "code",
   "execution_count": 2,
   "id": "116ed85d-e102-4ab1-be70-b3434c4ea80d",
   "metadata": {},
   "outputs": [],
   "source": [
    "device = \"mps\" if torch.backends.mps.is_available() else \"cpu\""
   ]
  },
  {
   "cell_type": "code",
   "execution_count": 3,
   "id": "7da304d1-0e6f-4bfa-a087-73359dca94f3",
   "metadata": {},
   "outputs": [],
   "source": [
    "train_data = datasets.FashionMNIST(\n",
    "    root=\"data\",\n",
    "    train=True,\n",
    "    download=True,\n",
    "    transform=ToTensor(),\n",
    "    target_transform=None\n",
    ")\n",
    "\n",
    "test_data = datasets.FashionMNIST(\n",
    "    root=\"data\",\n",
    "    train=False,\n",
    "    download=True,\n",
    "    transform=ToTensor(),\n",
    "    target_transform=None\n",
    ")"
   ]
  },
  {
   "cell_type": "code",
   "execution_count": 4,
   "id": "993bb74b-c6a5-485c-bd53-ee9d7912e681",
   "metadata": {},
   "outputs": [],
   "source": [
    "image, label = train_data[0]\n",
    "# image, label"
   ]
  },
  {
   "cell_type": "code",
   "execution_count": 5,
   "id": "23eb4106-0194-4041-bebf-7964028c9163",
   "metadata": {},
   "outputs": [
    {
     "data": {
      "text/plain": [
       "torch.Size([1, 28, 28])"
      ]
     },
     "execution_count": 5,
     "metadata": {},
     "output_type": "execute_result"
    }
   ],
   "source": [
    "image.shape"
   ]
  },
  {
   "cell_type": "markdown",
   "id": "51ad3ef6-237d-4edc-9bd1-05037dec6a42",
   "metadata": {},
   "source": [
    "# Input and Output Shapes of a Computer Vision Model\n",
    "\n",
    "In computer vision tasks, we start with a **tensor of values representing the image** and aim to predict a **target value (the label)**.\n",
    "\n",
    "---\n",
    "\n",
    "### 🔹 Example: FashionMNIST Image Shape\n",
    "\n",
    "Let’s check the shape of a single image from **FashionMNIST**:\n",
    "\n",
    "```python\n",
    "image.shape\n",
    "```\n",
    "\n",
    "Output:\n",
    "\n",
    "```\n",
    "torch.Size([1, 28, 28])\n",
    "```\n",
    "\n",
    "This tells us that the image has shape:\n",
    "\n",
    "$$\n",
    "[\\text{color\\_channels} = 1, \\; \\text{height} = 28, \\; \\text{width} = 28]\n",
    "$$\n",
    "\n",
    "* **color\\_channels = 1** → The image is **grayscale** (only one channel of pixel values).\n",
    "* **height = 28, width = 28** → Each image is **28 × 28 pixels**.\n",
    "\n",
    "---\n",
    "\n",
    "### 🔹 Understanding Channels\n",
    "\n",
    "* If `color_channels = 3`, the image contains **red, green, and blue** pixel values (the **RGB color model**).\n",
    "* The order `[C, H, W]` means the tensor is arranged as:\n",
    "\n",
    "  * **C** = Color Channels\n",
    "  * **H** = Height\n",
    "  * **W** = Width\n",
    "\n",
    "This format is known as **CHW** (channels first).\n",
    "\n",
    "---\n",
    "\n",
    "### 🔹 NCHW and NHWC Formats\n",
    "\n",
    "When working with batches of images, we add an extra **batch dimension (N)**.\n",
    "\n",
    "* For example, if `batch_size = 32`, the shape would be:\n",
    "\n",
    "  ```\n",
    "  [32, 1, 28, 28]\n",
    "  ```\n",
    "\n",
    "  * **N** = number of images in the batch\n",
    "  * **C** = color channels\n",
    "  * **H** = height\n",
    "  * **W** = width\n",
    "\n",
    "This format is known as **NCHW**.\n",
    "\n",
    "* Another common format is **NHWC** (channels last).\n",
    "\n",
    "  * Here the shape would look like `[32, 28, 28, 1]`.\n",
    "\n",
    "---\n",
    "\n",
    "### 🔹 Which Format Does PyTorch Use?\n",
    "\n",
    "* **PyTorch** generally uses **NCHW (channels first)** as the default for most layers and operators.\n",
    "* However, **PyTorch documentation notes that NHWC (channels last)** can offer **better performance** on modern hardware and is increasingly considered **best practice** for efficiency.\n",
    "\n",
    "---\n",
    "\n",
    "✅ In short:\n",
    "\n",
    "* **CHW** → single image (channels first).\n",
    "* **NCHW** → batch of images (channels first).\n",
    "* **NHWC** → batch of images (channels last, better performance in many cases)."
   ]
  },
  {
   "cell_type": "code",
   "execution_count": 6,
   "id": "14d5b523-4cb0-45fd-a9b8-2750ebaf8987",
   "metadata": {},
   "outputs": [
    {
     "data": {
      "text/plain": [
       "(60000, 60000, 10000, 10000)"
      ]
     },
     "execution_count": 6,
     "metadata": {},
     "output_type": "execute_result"
    }
   ],
   "source": [
    "# How many samples are there? \n",
    "len(train_data.data), len(train_data.targets), len(test_data.data), len(test_data.targets)"
   ]
  },
  {
   "cell_type": "code",
   "execution_count": 7,
   "id": "01e5fa56-2b6b-4735-80c5-415b40a03472",
   "metadata": {},
   "outputs": [
    {
     "data": {
      "text/plain": [
       "['T-shirt/top',\n",
       " 'Trouser',\n",
       " 'Pullover',\n",
       " 'Dress',\n",
       " 'Coat',\n",
       " 'Sandal',\n",
       " 'Shirt',\n",
       " 'Sneaker',\n",
       " 'Bag',\n",
       " 'Ankle boot']"
      ]
     },
     "execution_count": 7,
     "metadata": {},
     "output_type": "execute_result"
    }
   ],
   "source": [
    "# How many samples are there? \n",
    "class_names = train_data.classes\n",
    "class_names"
   ]
  },
  {
   "cell_type": "code",
   "execution_count": 8,
   "id": "1529b3af-907f-41b2-9488-f4d2ac0e0aae",
   "metadata": {},
   "outputs": [
    {
     "name": "stdout",
     "output_type": "stream",
     "text": [
      "Image shape: torch.Size([1, 28, 28])\n"
     ]
    },
    {
     "data": {
      "text/plain": [
       "Text(0.5, 1.0, 'T-shirt/top')"
      ]
     },
     "execution_count": 8,
     "metadata": {},
     "output_type": "execute_result"
    },
    {
     "data": {
      "image/png": "[encoded data removed]",
      "text/plain": [
       "<Figure size 640x480 with 1 Axes>"
      ]
     },
     "metadata": {},
     "output_type": "display_data"
    }
   ],
   "source": [
    "image, label = train_data[10]\n",
    "\n",
    "print(f\"Image shape: {image.shape}\")\n",
    "\n",
    "plt.imshow(image.squeeze(), cmap=\"gray\")\n",
    "plt.title(class_names[label])"
   ]
  },
  {
   "cell_type": "code",
   "execution_count": 9,
   "id": "ee1e3198-94c0-4892-be90-7bae3e41292b",
   "metadata": {},
   "outputs": [
    {
     "data": {
      "image/png": "[encoded data removed]",
      "text/plain": [
       "<Figure size 900x900 with 16 Axes>"
      ]
     },
     "metadata": {},
     "output_type": "display_data"
    }
   ],
   "source": [
    "torch.manual_seed(42)\n",
    "\n",
    "fig = plt.figure(figsize=(9, 9))\n",
    "\n",
    "rows, cols = 4, 4\n",
    "\n",
    "for i in range(1, rows * cols + 1):\n",
    "    random_idx = torch.randint(0, len(train_data), size=[1]).item()\n",
    "    img, label = train_data[random_idx]\n",
    "    fig.add_subplot(rows, cols, i)\n",
    "    plt.imshow(img.squeeze(), cmap=\"gray\")\n",
    "    plt.title(class_names[label])\n",
    "    plt.axis(False);\n"
   ]
  },
  {
   "cell_type": "markdown",
   "id": "d3e4fdbd-802e-4885-966e-2a8dd44038a1",
   "metadata": {},
   "source": [
    "## Next 👉 Prepare DataLoader\n",
    "\n",
    "Now that we have a dataset, the next step is to use **`torch.utils.data.DataLoader`** (or simply **DataLoader**).\n",
    "\n",
    "### 🔹 What does DataLoader do?\n",
    "\n",
    "* Loads data into a model (for both **training** and **inference**).\n",
    "* Breaks a big dataset into **smaller chunks** called **batches** (or mini-batches).\n",
    "* Makes the dataset behave like a **Python iterable**, so we can loop through it easily.\n",
    "\n",
    "---\n",
    "\n",
    "### 🔹 Why use batches?\n",
    "\n",
    "* **Efficiency**: Instead of processing the whole dataset at once (which is slow and memory-heavy), we process smaller pieces.\n",
    "* **More updates**: With mini-batches, the model updates weights **more often per epoch**, which can help it learn better.\n",
    "\n",
    "---\n",
    "\n",
    "### 🔹 Batch size\n",
    "\n",
    "* A **batch size of 32** is a good starting point for many problems.\n",
    "* Batch size is a **hyperparameter** → you can experiment with values.\n",
    "* Usually, powers of 2 are common: **32, 64, 128, 256, 512**.\n",
    "\n",
    "---\n",
    "\n",
    "✅ In short: **DataLoader = Efficient way to feed data to your model in manageable chunks.**"
   ]
  },
  {
   "cell_type": "code",
   "execution_count": 10,
   "id": "b2672639-78ab-41b8-b6d1-00a191e89b0d",
   "metadata": {},
   "outputs": [
    {
     "name": "stdout",
     "output_type": "stream",
     "text": [
      "Dataloaders: (<torch.utils.data.dataloader.DataLoader object at 0x127a5ffa0>, <torch.utils.data.dataloader.DataLoader object at 0x127a5f700>)\n",
      "Length of train dataloader: 1875 batches of 32\n",
      "Length of test dataloader: 313 batches of 32\n"
     ]
    }
   ],
   "source": [
    "from torch.utils.data import DataLoader\n",
    "\n",
    "BATCH_SIZE = 32\n",
    "\n",
    "train_dataloader = DataLoader(train_data, batch_size=BATCH_SIZE, shuffle=True)\n",
    "test_dataloader = DataLoader(test_data, batch_size=BATCH_SIZE, shuffle=False)\n",
    "\n",
    "# Let's check out what we've created\n",
    "print(f\"Dataloaders: {train_dataloader, test_dataloader}\") \n",
    "print(f\"Length of train dataloader: {len(train_dataloader)} batches of {BATCH_SIZE}\")\n",
    "print(f\"Length of test dataloader: {len(test_dataloader)} batches of {BATCH_SIZE}\")"
   ]
  },
  {
   "cell_type": "code",
   "execution_count": 11,
   "id": "f139158f-f42e-4d23-9ad2-e8646296b8fb",
   "metadata": {},
   "outputs": [
    {
     "data": {
      "text/plain": [
       "(torch.Size([32, 1, 28, 28]), torch.Size([32]))"
      ]
     },
     "execution_count": 11,
     "metadata": {},
     "output_type": "execute_result"
    }
   ],
   "source": [
    "# Check out what's inside the training dataloader\n",
    "train_features_batch, train_labels_batch = next(iter(train_dataloader))\n",
    "train_features_batch.shape, train_labels_batch.shape"
   ]
  },
  {
   "cell_type": "code",
   "execution_count": 12,
   "id": "1fc7c8ea-dbcf-4cc3-9b85-54d6d8d43c3b",
   "metadata": {},
   "outputs": [
    {
     "name": "stdout",
     "output_type": "stream",
     "text": [
      "Image size: torch.Size([1, 28, 28])\n",
      "Label: 6, label size: torch.Size([])\n"
     ]
    },
    {
     "data": {
      "image/png": "[encoded data removed]",
      "text/plain": [
       "<Figure size 640x480 with 1 Axes>"
      ]
     },
     "metadata": {},
     "output_type": "display_data"
    }
   ],
   "source": [
    "# train_features_batch[0]\n",
    "# Show a sample\n",
    "torch.manual_seed(42)\n",
    "random_idx = torch.randint(0, len(train_features_batch), size=[1]).item()\n",
    "img, label = train_features_batch[random_idx], train_labels_batch[random_idx]\n",
    "plt.imshow(img.squeeze(), cmap=\"gray\")\n",
    "plt.title(class_names[label])\n",
    "plt.axis(\"Off\");\n",
    "print(f\"Image size: {img.shape}\")\n",
    "print(f\"Label: {label}, label size: {label.shape}\")"
   ]
  },
  {
   "cell_type": "markdown",
   "id": "953d3425-699a-4fa9-b8c0-9f0638229cf7",
   "metadata": {},
   "source": [
    "## **Notes on `nn.Flatten()`**\n",
    "\n",
    "* **Purpose**:\n",
    "  Converts a multi-dimensional tensor into a **one-dimensional vector** (while keeping the batch dimension intact).\n",
    "\n",
    "* **Why use it?**\n",
    "\n",
    "  * Many neural network layers (like `nn.Linear`) expect inputs as vectors rather than images or higher-dimensional tensors.\n",
    "  * `nn.Flatten()` prepares image data (or any multi-dimensional data) for fully connected layers.\n",
    "\n",
    "* **How it works**:\n",
    "\n",
    "  * Input: `[batch_size, channels, height, width]`\n",
    "  * Output: `[batch_size, channels * height * width]`\n",
    "\n",
    "* **Example with FashionMNIST**:\n",
    "\n",
    "  * Input image shape: `[1, 28, 28]` → 1 channel, 28×28 pixels\n",
    "  * After `nn.Flatten()`: `[784]` (since 1×28×28 = 784)\n",
    "\n",
    "* **In batches**:\n",
    "\n",
    "  * Input shape: `[32, 1, 28, 28]` (32 images in a batch)\n",
    "  * Output shape: `[32, 784]`\n",
    "\n",
    "* **Key point**:\n",
    "  `nn.Flatten()` does **not change the data values**, it only reshapes the tensor for processing."
   ]
  },
  {
   "cell_type": "code",
   "execution_count": 13,
   "id": "13280456-5179-4419-b9b9-dc31f137637d",
   "metadata": {},
   "outputs": [],
   "source": [
    "class FashionMNISTModelV0(nn.Module):\n",
    "    def __init__(self, input_shape: int, hidden_units: int, output_shape: int) -> None:\n",
    "        super().__init__()\n",
    "\n",
    "        self.layer_stack = nn.Sequential(\n",
    "            nn.Flatten(),\n",
    "            nn.Linear(in_features=input_shape, out_features=hidden_units),\n",
    "            nn.Linear(in_features=hidden_units, out_features=output_shape)\n",
    "        )\n",
    "\n",
    "    def forward(self, x: torch.Tensor) -> torch.Tensor:\n",
    "        return self.layer_stack(x)"
   ]
  },
  {
   "cell_type": "code",
   "execution_count": 14,
   "id": "0e60fda2-c956-4255-a565-1305f4d093ce",
   "metadata": {},
   "outputs": [
    {
     "data": {
      "text/plain": [
       "FashionMNISTModelV0(\n",
       "  (layer_stack): Sequential(\n",
       "    (0): Flatten(start_dim=1, end_dim=-1)\n",
       "    (1): Linear(in_features=784, out_features=10, bias=True)\n",
       "    (2): Linear(in_features=10, out_features=10, bias=True)\n",
       "  )\n",
       ")"
      ]
     },
     "execution_count": 14,
     "metadata": {},
     "output_type": "execute_result"
    }
   ],
   "source": [
    "torch.manual_seed(42)\n",
    "\n",
    "model_0 = FashionMNISTModelV0(input_shape=784, \n",
    "                              hidden_units=10, \n",
    "                              output_shape=len(class_names)).to(\"cpu\")\n",
    "\n",
    "model_0"
   ]
  },
  {
   "cell_type": "code",
   "execution_count": 15,
   "id": "c01afde3-7e8b-4890-923f-95b99e7d0515",
   "metadata": {},
   "outputs": [],
   "source": [
    "from helper_functions import accuracy_fn"
   ]
  },
  {
   "cell_type": "code",
   "execution_count": 16,
   "id": "fd597521-49ef-4900-b62b-a892832bf0bf",
   "metadata": {},
   "outputs": [],
   "source": [
    "loss_fn =  nn.CrossEntropyLoss()\n",
    "optimizer = torch.optim.SGD(params=model_0.parameters(), lr=0.1)"
   ]
  },
  {
   "cell_type": "code",
   "execution_count": 17,
   "id": "4992ddca-69bf-4d34-a1b4-9c2b4e114154",
   "metadata": {},
   "outputs": [],
   "source": [
    "from timeit import default_timer as timer \n",
    "def print_train_time(start: float, end: float, device: torch.device = None):\n",
    "    \"\"\"Prints difference between start and end time.\n",
    "\n",
    "    Args:\n",
    "        start (float): Start time of computation (preferred in timeit format). \n",
    "        end (float): End time of computation.\n",
    "        device ([type], optional): Device that compute is running on. Defaults to None.\n",
    "\n",
    "    Returns:\n",
    "        float: time between start and end in seconds (higher is longer).\n",
    "    \"\"\"\n",
    "    total_time = end - start\n",
    "    print(f\"Train time on {device}: {total_time:.3f} seconds\")\n",
    "    return total_time"
   ]
  },
  {
   "cell_type": "code",
   "execution_count": 18,
   "id": "0f699190-d7ae-40c3-8849-44a46ad03957",
   "metadata": {},
   "outputs": [
    {
     "name": "stderr",
     "output_type": "stream",
     "text": [
      "/opt/anaconda3/envs/env_pytorch/lib/python3.9/site-packages/tqdm/auto.py:21: TqdmWarning: IProgress not found. Please update jupyter and ipywidgets. See https://ipywidgets.readthedocs.io/en/stable/user_install.html\n",
      "  from .autonotebook import tqdm as notebook_tqdm\n",
      "  0%|                                                     | 0/5 [00:00<?, ?it/s]"
     ]
    },
    {
     "name": "stdout",
     "output_type": "stream",
     "text": [
      "Epoch: 0\n",
      " 🏗️🏗️🏗️🏗️🏗️🏗️🏗️🏗️\n",
      "Looked at 0/60000 samples\n",
      "Looked at 12800/60000 samples\n",
      "Looked at 25600/60000 samples\n",
      "Looked at 38400/60000 samples\n",
      "Looked at 51200/60000 samples\n"
     ]
    },
    {
     "name": "stderr",
     "output_type": "stream",
     "text": [
      " 20%|█████████                                    | 1/5 [00:08<00:32,  8.22s/it]"
     ]
    },
    {
     "name": "stdout",
     "output_type": "stream",
     "text": [
      "\n",
      "Train loss: 0.58804 | Test loss: 0.52466, Test acc: 81.48%\n",
      "\n",
      "Epoch: 1\n",
      " 🏗️🏗️🏗️🏗️🏗️🏗️🏗️🏗️\n",
      "Looked at 0/60000 samples\n",
      "Looked at 12800/60000 samples\n",
      "Looked at 25600/60000 samples\n",
      "Looked at 38400/60000 samples\n",
      "Looked at 51200/60000 samples\n"
     ]
    },
    {
     "name": "stderr",
     "output_type": "stream",
     "text": [
      " 40%|██████████████████                           | 2/5 [00:16<00:24,  8.21s/it]"
     ]
    },
    {
     "name": "stdout",
     "output_type": "stream",
     "text": [
      "\n",
      "Train loss: 0.47645 | Test loss: 0.47678, Test acc: 83.34%\n",
      "\n",
      "Epoch: 2\n",
      " 🏗️🏗️🏗️🏗️🏗️🏗️🏗️🏗️\n",
      "Looked at 0/60000 samples\n",
      "Looked at 12800/60000 samples\n",
      "Looked at 25600/60000 samples\n",
      "Looked at 38400/60000 samples\n",
      "Looked at 51200/60000 samples\n"
     ]
    },
    {
     "name": "stderr",
     "output_type": "stream",
     "text": [
      " 60%|███████████████████████████                  | 3/5 [00:24<00:16,  8.05s/it]"
     ]
    },
    {
     "name": "stdout",
     "output_type": "stream",
     "text": [
      "\n",
      "Train loss: 0.45479 | Test loss: 0.55112, Test acc: 81.43%\n",
      "\n",
      "Epoch: 3\n",
      " 🏗️🏗️🏗️🏗️🏗️🏗️🏗️🏗️\n",
      "Looked at 0/60000 samples\n",
      "Looked at 12800/60000 samples\n",
      "Looked at 25600/60000 samples\n",
      "Looked at 38400/60000 samples\n",
      "Looked at 51200/60000 samples\n"
     ]
    },
    {
     "name": "stderr",
     "output_type": "stream",
     "text": [
      " 80%|████████████████████████████████████         | 4/5 [00:32<00:08,  8.11s/it]"
     ]
    },
    {
     "name": "stdout",
     "output_type": "stream",
     "text": [
      "\n",
      "Train loss: 0.44429 | Test loss: 0.48230, Test acc: 83.12%\n",
      "\n",
      "Epoch: 4\n",
      " 🏗️🏗️🏗️🏗️🏗️🏗️🏗️🏗️\n",
      "Looked at 0/60000 samples\n",
      "Looked at 12800/60000 samples\n",
      "Looked at 25600/60000 samples\n",
      "Looked at 38400/60000 samples\n",
      "Looked at 51200/60000 samples\n"
     ]
    },
    {
     "name": "stderr",
     "output_type": "stream",
     "text": [
      "100%|█████████████████████████████████████████████| 5/5 [00:40<00:00,  8.07s/it]"
     ]
    },
    {
     "name": "stdout",
     "output_type": "stream",
     "text": [
      "\n",
      "Train loss: 0.43419 | Test loss: 0.46643, Test acc: 83.58%\n",
      "\n",
      "Train time on cpu: 40.379 seconds\n"
     ]
    },
    {
     "name": "stderr",
     "output_type": "stream",
     "text": [
      "\n"
     ]
    }
   ],
   "source": [
    "from tqdm.auto import tqdm\n",
    "\n",
    "train_time_start_on_cpu = timer()\n",
    "\n",
    "epochs = 5\n",
    "\n",
    "for epoch in tqdm(range(epochs)):\n",
    "    print(f\"Epoch: {epoch}\\n 🏗️🏗️🏗️🏗️🏗️🏗️🏗️🏗️\")\n",
    "\n",
    "    train_loss = 0\n",
    "\n",
    "    for batch, (X, y) in enumerate(train_dataloader):\n",
    "        #  Training mode\n",
    "        model_0.train()\n",
    "\n",
    "\n",
    "        # 1. Forward pass\n",
    "        y_pred = model_0(X)\n",
    "\n",
    "        # 2. Calculating loss per batch\n",
    "        loss = loss_fn(y_pred, y)\n",
    "        train_loss += loss\n",
    "\n",
    "\n",
    "        # 3. Optimizer zero grad\n",
    "        optimizer.zero_grad()\n",
    "\n",
    "        # 4. Loss backward\n",
    "        loss.backward()\n",
    "\n",
    "        # 5. Optimizer step\n",
    "        optimizer.step()\n",
    "\n",
    "\n",
    "        if batch % 400 == 0:\n",
    "            print(f\"Looked at {batch * len(X)}/{len(train_dataloader.dataset)} samples\")\n",
    "\n",
    "    train_loss /= len(train_dataloader)\n",
    "\n",
    "    ### Testing \n",
    "    test_loss, test_acc = 0, 0\n",
    "\n",
    "    model_0.eval()\n",
    "    with torch.inference_mode():\n",
    "        for X, y in test_dataloader:\n",
    "            test_pred = model_0(X)\n",
    "\n",
    "            test_loss += loss_fn(test_pred, y)\n",
    "\n",
    "            test_acc += accuracy_fn(y_true=y, y_pred=test_pred.argmax(dim=1))\n",
    "\n",
    "        test_loss /= len(test_dataloader)\n",
    "        test_acc /= len(test_dataloader)\n",
    "\n",
    "    print(f\"\\nTrain loss: {train_loss:.5f} | Test loss: {test_loss:.5f}, Test acc: {test_acc:.2f}%\\n\")\n",
    "\n",
    "# Calculate training time      \n",
    "train_time_end_on_cpu = timer()\n",
    "total_train_time_model_0 = print_train_time(start=train_time_start_on_cpu, \n",
    "                                           end=train_time_end_on_cpu,\n",
    "                                           device=str(next(model_0.parameters()).device))"
   ]
  },
  {
   "cell_type": "code",
   "execution_count": 19,
   "id": "0ef46ba5-c0f5-47bf-937c-05228a902069",
   "metadata": {},
   "outputs": [],
   "source": [
    "torch.manual_seed(42)\n",
    "\n",
    "def eval_model(model: nn.Module,\n",
    "              data_loader: torch.utils.data.DataLoader,\n",
    "              loss_fn: nn.Module,\n",
    "              accuracy_fn):\n",
    "    \"\"\"Returns a dictionary containing the results of model predicting on data_loader.\n",
    "\n",
    "    Args:\n",
    "        model (torch.nn.Module): A PyTorch model capable of making predictions on data_loader.\n",
    "        data_loader (torch.utils.data.DataLoader): The target dataset to predict on.\n",
    "        loss_fn (torch.nn.Module): The loss function of model.\n",
    "        accuracy_fn: An accuracy function to compare the models predictions to the truth labels.\n",
    "\n",
    "    Returns:\n",
    "        (dict): Results of model making predictions on data_loader.\n",
    "    \"\"\"\n",
    "    loss, acc = 0, 0\n",
    "    model.eval()\n",
    "\n",
    "    with torch.inference_mode():\n",
    "        for X, y in data_loader:\n",
    "            y_pred = model(X)\n",
    "\n",
    "            loss += loss_fn(y_pred, y)\n",
    "\n",
    "            acc += accuracy_fn(y_true=y, \n",
    "                               # For accuracy, need the prediction labels (logits -> pred_prob -> pred_labels)\n",
    "                               y_pred=y_pred.argmax(dim=1))\n",
    "\n",
    "        \n",
    "\n",
    "        loss /= len(data_loader)\n",
    "        acc  /= len(data_loader)\n",
    "\n",
    "    return {\n",
    "        \"model_name\": model.__class__.__name__,\n",
    "        \"model_loss\": loss.item(),\n",
    "        \"model_acc\": acc\n",
    "    }"
   ]
  },
  {
   "cell_type": "code",
   "execution_count": 20,
   "id": "b2d7d12b-000c-495a-ae9b-bb028660b396",
   "metadata": {},
   "outputs": [
    {
     "data": {
      "text/plain": [
       "{'model_name': 'FashionMNISTModelV0',\n",
       " 'model_loss': 0.46643465757369995,\n",
       " 'model_acc': 83.57627795527156}"
      ]
     },
     "execution_count": 20,
     "metadata": {},
     "output_type": "execute_result"
    }
   ],
   "source": [
    "eval_model(model=model_0, \n",
    "           data_loader=test_dataloader, \n",
    "           loss_fn=loss_fn, \n",
    "           accuracy_fn=accuracy_fn)"
   ]
  },
  {
   "cell_type": "code",
   "execution_count": 21,
   "id": "664cad5c-5063-4274-b143-b4c93693b916",
   "metadata": {},
   "outputs": [],
   "source": [
    "class FashionMNISTModelV1(nn.Module):\n",
    "    def __init__(self, input_shape: int, hidden_units: int, output_shape: int):\n",
    "        super().__init__()\n",
    "\n",
    "        self.layer_stack = nn.Sequential(\n",
    "            nn.Flatten(),\n",
    "            nn.Linear(in_features=input_shape, out_features=hidden_units),\n",
    "            nn.ReLU(),\n",
    "            nn.Linear(in_features=hidden_units, out_features=output_shape),\n",
    "            nn.ReLU()\n",
    "        )\n",
    "\n",
    "    def forward(self, x: torch.Tensor) -> torch.Tensor:\n",
    "        return self.layer_stack(x)"
   ]
  },
  {
   "cell_type": "code",
   "execution_count": 22,
   "id": "34f63496-23a7-4715-ad29-6a3884fb9926",
   "metadata": {},
   "outputs": [],
   "source": [
    "model_1 = FashionMNISTModelV1(input_shape=784, \n",
    "                              hidden_units=10, \n",
    "                              output_shape=len(class_names)).to(device)"
   ]
  },
  {
   "cell_type": "code",
   "execution_count": 23,
   "id": "011d6ad4-2131-4a5b-8ba6-73902477ef6e",
   "metadata": {},
   "outputs": [
    {
     "data": {
      "text/plain": [
       "device(type='mps', index=0)"
      ]
     },
     "execution_count": 23,
     "metadata": {},
     "output_type": "execute_result"
    }
   ],
   "source": [
    "next(model_1.parameters()).device"
   ]
  },
  {
   "cell_type": "code",
   "execution_count": 24,
   "id": "c06d7c52-6b21-4f71-9be6-43b47ea81f09",
   "metadata": {},
   "outputs": [],
   "source": [
    "from helper_functions import accuracy_fn\n",
    "\n",
    "loss_fn = nn.CrossEntropyLoss()\n",
    "optimizer = torch.optim.SGD(params=model_1.parameters(), lr=0.1)"
   ]
  },
  {
   "cell_type": "code",
   "execution_count": 25,
   "id": "e0b97ac3-ca76-4aa8-8332-2a874da1d8b6",
   "metadata": {},
   "outputs": [],
   "source": [
    "# Re-usable function for training\n",
    "def train_step(model: torch.nn.Module, \n",
    "              data_loader: torch.utils.data.DataLoader,\n",
    "              loss_fn: torch.nn.Module,\n",
    "              optimizer: torch.optim.Optimizer,\n",
    "              accuracy_fn, \n",
    "              device: torch.device = device):\n",
    "    \n",
    "    train_loss, train_acc = 0, 0\n",
    "\n",
    "    model.to(device)\n",
    "\n",
    "    for batch, (X, y) in enumerate(data_loader):\n",
    "        # Sending data to GPU\n",
    "        X, y = X.to(device), y.to(device)\n",
    "\n",
    "        # 1. Forward pass\n",
    "        y_pred = model(X)\n",
    "\n",
    "        # 2. Calculate loss\n",
    "        loss = loss_fn(y_pred, y)\n",
    "        train_loss += loss\n",
    "        train_acc += accuracy_fn(y_true=y, \n",
    "                                 y_pred=y_pred.argmax(dim=1))\n",
    "\n",
    "        # 3.Optimizer zero grad\n",
    "        optimizer.zero_grad()\n",
    "\n",
    "        # 4.Loss backward\n",
    "        loss.backward()\n",
    "\n",
    "        # 5. optimizer step\n",
    "        optimizer.step()\n",
    "\n",
    "    train_loss /= len(data_loader)\n",
    "    train_acc /= len(data_loader)\n",
    "\n",
    "    print(f\"Train loss: {train_loss:.5f} | Train accuracy: {train_acc:.2f}%\")"
   ]
  },
  {
   "cell_type": "code",
   "execution_count": 26,
   "id": "9246f2fe-28db-44d4-9c36-255c5569f8cd",
   "metadata": {},
   "outputs": [],
   "source": [
    "def test_step(model: nn.Module, \n",
    "              data_loader: torch.utils.data.DataLoader, \n",
    "              loss_fn: torch.nn.Module, \n",
    "              accuracy_fn, \n",
    "              device: torch.device = device):\n",
    "    test_loss, test_acc = 0, 0\n",
    "\n",
    "    # Moving the model to GPU\n",
    "    model.to(device)\n",
    "\n",
    "    # Turning on the evaluation mode\n",
    "    model.eval()\n",
    "\n",
    "    with torch.inference_mode():\n",
    "        for X, y in data_loader:\n",
    "            X, y = X.to(device), y.to(device)\n",
    "\n",
    "            test_pred = model(X)\n",
    "\n",
    "            test_loss += loss_fn(test_pred, y)\n",
    "\n",
    "            test_acc += accuracy_fn(y_true=y, y_pred=test_pred.argmax(dim=1))\n",
    "\n",
    "        test_loss /= len(data_loader)\n",
    "        test_acc /= len(data_loader)\n",
    "\n",
    "    print(f\"Test loss: {test_loss:.5f} | Test accuracy: {test_acc:.2f}%\")            "
   ]
  },
  {
   "cell_type": "code",
   "execution_count": 27,
   "id": "b21dca91-6752-4f44-83cc-d80ba4c9a59e",
   "metadata": {},
   "outputs": [
    {
     "name": "stderr",
     "output_type": "stream",
     "text": [
      "  0%|                                                    | 0/10 [00:00<?, ?it/s]"
     ]
    },
    {
     "name": "stdout",
     "output_type": "stream",
     "text": [
      "Epoch: 0\n",
      "------------------------------------------\n",
      "Train loss: 0.98248 | Train accuracy: 65.06%\n"
     ]
    },
    {
     "name": "stderr",
     "output_type": "stream",
     "text": [
      " 10%|████▍                                       | 1/10 [00:26<03:57, 26.44s/it]"
     ]
    },
    {
     "name": "stdout",
     "output_type": "stream",
     "text": [
      "Test loss: 0.76060 | Test accuracy: 72.80%\n",
      "Epoch: 1\n",
      "------------------------------------------\n",
      "Train loss: 0.70374 | Train accuracy: 74.43%\n"
     ]
    },
    {
     "name": "stderr",
     "output_type": "stream",
     "text": [
      " 20%|████████▊                                   | 2/10 [00:52<03:29, 26.18s/it]"
     ]
    },
    {
     "name": "stdout",
     "output_type": "stream",
     "text": [
      "Test loss: 0.71959 | Test accuracy: 73.53%\n",
      "Epoch: 2\n",
      "------------------------------------------\n",
      "Train loss: 0.67371 | Train accuracy: 75.37%\n"
     ]
    },
    {
     "name": "stderr",
     "output_type": "stream",
     "text": [
      " 30%|█████████████▏                              | 3/10 [01:18<03:02, 26.13s/it]"
     ]
    },
    {
     "name": "stdout",
     "output_type": "stream",
     "text": [
      "Test loss: 0.69469 | Test accuracy: 74.71%\n",
      "Epoch: 3\n",
      "------------------------------------------\n",
      "Train loss: 0.65652 | Train accuracy: 75.80%\n"
     ]
    },
    {
     "name": "stderr",
     "output_type": "stream",
     "text": [
      " 40%|█████████████████▌                          | 4/10 [01:44<02:35, 25.98s/it]"
     ]
    },
    {
     "name": "stdout",
     "output_type": "stream",
     "text": [
      "Test loss: 0.67172 | Test accuracy: 75.26%\n",
      "Epoch: 4\n",
      "------------------------------------------\n",
      "Train loss: 0.64775 | Train accuracy: 75.89%\n"
     ]
    },
    {
     "name": "stderr",
     "output_type": "stream",
     "text": [
      " 50%|██████████████████████                      | 5/10 [02:09<02:08, 25.71s/it]"
     ]
    },
    {
     "name": "stdout",
     "output_type": "stream",
     "text": [
      "Test loss: 0.68185 | Test accuracy: 75.21%\n",
      "Epoch: 5\n",
      "------------------------------------------\n",
      "Train loss: 0.63568 | Train accuracy: 76.47%\n"
     ]
    },
    {
     "name": "stderr",
     "output_type": "stream",
     "text": [
      " 60%|██████████████████████████▍                 | 6/10 [02:34<01:42, 25.60s/it]"
     ]
    },
    {
     "name": "stdout",
     "output_type": "stream",
     "text": [
      "Test loss: 0.65739 | Test accuracy: 75.98%\n",
      "Epoch: 6\n",
      "------------------------------------------\n",
      "Train loss: 0.62906 | Train accuracy: 76.60%\n"
     ]
    },
    {
     "name": "stderr",
     "output_type": "stream",
     "text": [
      " 70%|██████████████████████████████▊             | 7/10 [03:00<01:16, 25.48s/it]"
     ]
    },
    {
     "name": "stdout",
     "output_type": "stream",
     "text": [
      "Test loss: 0.66417 | Test accuracy: 75.38%\n",
      "Epoch: 7\n",
      "------------------------------------------\n",
      "Train loss: 0.62495 | Train accuracy: 76.63%\n"
     ]
    },
    {
     "name": "stderr",
     "output_type": "stream",
     "text": [
      " 80%|███████████████████████████████████▏        | 8/10 [03:26<00:51, 25.62s/it]"
     ]
    },
    {
     "name": "stdout",
     "output_type": "stream",
     "text": [
      "Test loss: 0.66554 | Test accuracy: 75.52%\n",
      "Epoch: 8\n",
      "------------------------------------------\n",
      "Train loss: 0.62114 | Train accuracy: 76.81%\n"
     ]
    },
    {
     "name": "stderr",
     "output_type": "stream",
     "text": [
      " 90%|███████████████████████████████████████▌    | 9/10 [03:52<00:25, 25.77s/it]"
     ]
    },
    {
     "name": "stdout",
     "output_type": "stream",
     "text": [
      "Test loss: 0.65442 | Test accuracy: 75.90%\n",
      "Epoch: 9\n",
      "------------------------------------------\n",
      "Train loss: 0.61520 | Train accuracy: 76.80%\n"
     ]
    },
    {
     "name": "stderr",
     "output_type": "stream",
     "text": [
      "100%|███████████████████████████████████████████| 10/10 [04:17<00:00, 25.76s/it]"
     ]
    },
    {
     "name": "stdout",
     "output_type": "stream",
     "text": [
      "Test loss: 0.66045 | Test accuracy: 76.09%\n",
      "Train time on mps: 257.640 seconds\n"
     ]
    },
    {
     "name": "stderr",
     "output_type": "stream",
     "text": [
      "\n"
     ]
    }
   ],
   "source": [
    "torch.manual_seed(42)\n",
    "\n",
    "from timeit import default_timer as timer\n",
    "train_time_start_on_gpu = timer()\n",
    "\n",
    "epochs = 10\n",
    "\n",
    "for epoch in tqdm(range(epochs)):\n",
    "    print(f\"Epoch: {epoch}\\n------------------------------------------\")\n",
    "\n",
    "    train_step(\n",
    "        model=model_1,\n",
    "        data_loader=train_dataloader,\n",
    "        loss_fn=loss_fn,\n",
    "        optimizer=optimizer,\n",
    "        accuracy_fn=accuracy_fn\n",
    "    )\n",
    "\n",
    "    test_step(\n",
    "        model=model_1,\n",
    "        data_loader=test_dataloader,\n",
    "        loss_fn=loss_fn,\n",
    "        accuracy_fn=accuracy_fn\n",
    "    )\n",
    "\n",
    "\n",
    "train_time_end_on_gpu = timer()\n",
    "total_train_time_model_1 = print_train_time(start=train_time_start_on_gpu,\n",
    "                                            end=train_time_end_on_gpu,\n",
    "                                            device=device)"
   ]
  },
  {
   "cell_type": "code",
   "execution_count": 28,
   "id": "38eaaa6a-13e0-444c-aea6-2b3480e9c6d4",
   "metadata": {},
   "outputs": [],
   "source": [
    "torch.manual_seed(42)\n",
    "\n",
    "def eval_model(model: nn.Module,\n",
    "              data_loader: torch.utils.data.DataLoader,\n",
    "              loss_fn: nn.Module,\n",
    "              accuracy_fn,\n",
    "              device: torch.device = device):\n",
    "    \"\"\"Returns a dictionary containing the results of model predicting on data_loader.\n",
    "\n",
    "    Args:\n",
    "        model (torch.nn.Module): A PyTorch model capable of making predictions on data_loader.\n",
    "        data_loader (torch.utils.data.DataLoader): The target dataset to predict on.\n",
    "        loss_fn (torch.nn.Module): The loss function of model.\n",
    "        accuracy_fn: An accuracy function to compare the models predictions to the truth labels.\n",
    "\n",
    "    Returns:\n",
    "        (dict): Results of model making predictions on data_loader.\n",
    "    \"\"\"\n",
    "    model.to(device)\n",
    "    \n",
    "    loss, acc = 0, 0\n",
    "    model.eval()\n",
    "\n",
    "    with torch.inference_mode():\n",
    "        for X, y in data_loader:\n",
    "            X, y = X.to(device), y.to(device)\n",
    "            y_pred = model(X)\n",
    "\n",
    "            loss += loss_fn(y_pred, y)\n",
    "\n",
    "            acc += accuracy_fn(y_true=y, \n",
    "                               # For accuracy, need the prediction labels (logits -> pred_prob -> pred_labels)\n",
    "                               y_pred=y_pred.argmax(dim=1))\n",
    "\n",
    "        \n",
    "\n",
    "        loss /= len(data_loader)\n",
    "        acc  /= len(data_loader)\n",
    "\n",
    "    return {\n",
    "        \"model_name\": model.__class__.__name__,\n",
    "        \"model_loss\": loss.item(),\n",
    "        \"model_acc\": acc\n",
    "    }"
   ]
  },
  {
   "cell_type": "code",
   "execution_count": 29,
   "id": "1d4e60d0-b6ff-4164-9456-6035acc98c87",
   "metadata": {},
   "outputs": [
    {
     "data": {
      "text/plain": [
       "{'model_name': 'FashionMNISTModelV1',\n",
       " 'model_loss': 0.6604500412940979,\n",
       " 'model_acc': 76.08825878594249}"
      ]
     },
     "execution_count": 29,
     "metadata": {},
     "output_type": "execute_result"
    }
   ],
   "source": [
    "model_1_results = eval_model(model=model_1, \n",
    "                             accuracy_fn=accuracy_fn, \n",
    "                             loss_fn=loss_fn, \n",
    "                             data_loader=test_dataloader)\n",
    "\n",
    "model_1_results"
   ]
  },
  {
   "cell_type": "markdown",
   "id": "fbfb71cb-47b1-46af-8153-a55fbf73da04",
   "metadata": {},
   "source": [
    "# 🧠 Convolutional Neural Networks (CNNs) — Notes\n",
    "\n",
    "### What is a CNN?\n",
    "\n",
    "* A **Convolutional Neural Network** is a special type of neural network designed for **processing grid-like data**, such as images.\n",
    "* It works by automatically learning **spatial features** (edges, shapes, textures, patterns) from raw data using convolutional layers.\n",
    "* CNNs are widely used in **computer vision tasks** like image classification, object detection, and face recognition.\n",
    "\n",
    "---\n",
    "\n",
    "### 🔑 Key Components\n",
    "\n",
    "1. **Input Layer**\n",
    "\n",
    "   * Takes in the image (e.g., for FashionMNIST → `[1, 28, 28]` grayscale image).\n",
    "   * If colored, it would be `[3, H, W]` for RGB.\n",
    "\n",
    "2. **Convolutional Layer (Conv Layer)**\n",
    "\n",
    "   * Applies **filters/kernels** that slide over the input image.\n",
    "   * Captures **features** like edges, corners, textures.\n",
    "   * Output = **Feature Maps**.\n",
    "\n",
    "3. **Activation Function (ReLU)**\n",
    "\n",
    "   * Introduces non-linearity so the model can learn complex features.\n",
    "\n",
    "4. **Pooling Layer (e.g., MaxPooling)**\n",
    "\n",
    "   * Reduces the size of feature maps → makes computation efficient.\n",
    "   * Retains the most important information (downsampling).\n",
    "\n",
    "5. **Fully Connected Layer (Dense Layer)**\n",
    "\n",
    "   * Flattens the output of convolutions/pooling into a vector.\n",
    "   * Works like a traditional neural network for classification.\n",
    "\n",
    "6. **Output Layer**\n",
    "\n",
    "   * Produces predictions (e.g., probabilities of classes using **Softmax**).\n",
    "\n",
    "---\n",
    "\n",
    "### 🖼️ Simple CNN Structure (Diagram)\n",
    "\n",
    "```\n",
    "          [Input Image]\n",
    "                |\n",
    "         ┌───────────────┐\n",
    "         │ Convolutional  │  -> Feature Extraction\n",
    "         └───────────────┘\n",
    "                |\n",
    "         ┌───────────────┐\n",
    "         │ Activation     │ (ReLU)\n",
    "         └───────────────┘\n",
    "                |\n",
    "         ┌───────────────┐\n",
    "         │ Pooling Layer  │ (e.g., MaxPool)\n",
    "         └───────────────┘\n",
    "                |\n",
    "         ┌───────────────┐\n",
    "         │ Flatten Layer  │\n",
    "         └───────────────┘\n",
    "                |\n",
    "         ┌───────────────┐\n",
    "         │ Fully Connected│\n",
    "         │    (Dense)     │\n",
    "         └───────────────┘\n",
    "                |\n",
    "         ┌───────────────┐\n",
    "         │   Output       │ (Softmax → Class Probabilities)\n",
    "         └───────────────┘\n",
    "```\n",
    "\n",
    "---\n",
    "\n",
    "👉 In short: **CNNs learn features → condense them → classify the image.**"
   ]
  },
  {
   "cell_type": "code",
   "execution_count": 30,
   "id": "cd761518-83ad-4288-b44c-4a3be49bd8a3",
   "metadata": {},
   "outputs": [],
   "source": [
    "SEED = 42"
   ]
  },
  {
   "cell_type": "code",
   "execution_count": 31,
   "id": "ffed9afd-45f3-4798-9508-13d02fbaac12",
   "metadata": {},
   "outputs": [],
   "source": [
    "class FashionMNISTModelV2(nn.Module):\n",
    "    \"\"\"\n",
    "    Model architecture copying TinyVGG from: \n",
    "    https://poloclub.github.io/cnn-explainer/\n",
    "    \"\"\"\n",
    "    def __init__(self, input_shape: int, hidden_units: int, output_shape: int):\n",
    "        super().__init__()\n",
    "\n",
    "        self.block_1 = nn.Sequential(\n",
    "            nn.Conv2d(in_channels=input_shape, \n",
    "                     out_channels=hidden_units,\n",
    "                     kernel_size=3, \n",
    "                     stride=1,\n",
    "                     padding=1),\n",
    "            nn.ReLU(),\n",
    "            nn.Conv2d(in_channels=hidden_units,\n",
    "                     out_channels=hidden_units,\n",
    "                     kernel_size=3,\n",
    "                     stride=1,\n",
    "                     padding=1),\n",
    "            nn.ReLU(),\n",
    "            nn.MaxPool2d(kernel_size=2,\n",
    "                           stride=2)\n",
    "        )\n",
    "\n",
    "        self.block_2 = nn.Sequential(\n",
    "            nn.Conv2d(in_channels=hidden_units,\n",
    "                     out_channels=hidden_units,\n",
    "                     kernel_size=3,\n",
    "                     stride=1,\n",
    "                     padding=1),\n",
    "            nn.ReLU(),\n",
    "            nn.Conv2d(in_channels=hidden_units,\n",
    "                     out_channels=hidden_units,\n",
    "                     kernel_size=3,\n",
    "                     stride=1,\n",
    "                     padding=1),\n",
    "            nn.ReLU(),\n",
    "            nn.MaxPool2d(kernel_size=2, stride=2)\n",
    "        )\n",
    "\n",
    "        self.classfier = nn.Sequential(\n",
    "            nn.Flatten(),\n",
    "\n",
    "            nn.Linear(in_features=hidden_units*7*7, out_features=output_shape)\n",
    "        )\n",
    "\n",
    "    def forward(self, x: torch.Tensor) -> torch.Tensor:\n",
    "        # first convulutional layer\n",
    "        x = self.block_1(x)\n",
    "\n",
    "        # second conv layer\n",
    "        x = self.block_2(x)\n",
    "\n",
    "        # print(x.shape)\n",
    "\n",
    "        # last flatten and linear layer\n",
    "        x = self.classfier(x)\n",
    "\n",
    "        return x"
   ]
  },
  {
   "cell_type": "code",
   "execution_count": 32,
   "id": "ee9cfd1a-fd5c-4506-96f2-0e8049bc06dd",
   "metadata": {},
   "outputs": [
    {
     "data": {
      "text/plain": [
       "FashionMNISTModelV2(\n",
       "  (block_1): Sequential(\n",
       "    (0): Conv2d(1, 10, kernel_size=(3, 3), stride=(1, 1), padding=(1, 1))\n",
       "    (1): ReLU()\n",
       "    (2): Conv2d(10, 10, kernel_size=(3, 3), stride=(1, 1), padding=(1, 1))\n",
       "    (3): ReLU()\n",
       "    (4): MaxPool2d(kernel_size=2, stride=2, padding=0, dilation=1, ceil_mode=False)\n",
       "  )\n",
       "  (block_2): Sequential(\n",
       "    (0): Conv2d(10, 10, kernel_size=(3, 3), stride=(1, 1), padding=(1, 1))\n",
       "    (1): ReLU()\n",
       "    (2): Conv2d(10, 10, kernel_size=(3, 3), stride=(1, 1), padding=(1, 1))\n",
       "    (3): ReLU()\n",
       "    (4): MaxPool2d(kernel_size=2, stride=2, padding=0, dilation=1, ceil_mode=False)\n",
       "  )\n",
       "  (classfier): Sequential(\n",
       "    (0): Flatten(start_dim=1, end_dim=-1)\n",
       "    (1): Linear(in_features=490, out_features=10, bias=True)\n",
       "  )\n",
       ")"
      ]
     },
     "execution_count": 32,
     "metadata": {},
     "output_type": "execute_result"
    }
   ],
   "source": [
    "torch.manual_seed(SEED)\n",
    "\n",
    "model_2 = FashionMNISTModelV2(input_shape=1, \n",
    "                             hidden_units=10,\n",
    "                             output_shape=len(class_names)).to(device)\n",
    "\n",
    "model_2"
   ]
  },
  {
   "cell_type": "code",
   "execution_count": 33,
   "id": "df436687-fb48-4e40-ab6e-e7dba34fa013",
   "metadata": {},
   "outputs": [],
   "source": [
    "### Set up a loss function and optimizer\n",
    "loss = nn.CrossEntropyLoss()\n",
    "optimizer = torch.optim.SGD(params=model_2.parameters(), lr=0.1)"
   ]
  },
  {
   "cell_type": "code",
   "execution_count": 34,
   "id": "6bfc11b1-6605-489f-bb03-068431367adb",
   "metadata": {},
   "outputs": [
    {
     "name": "stderr",
     "output_type": "stream",
     "text": [
      "  0%|                                                     | 0/3 [00:00<?, ?it/s]"
     ]
    },
    {
     "name": "stdout",
     "output_type": "stream",
     "text": [
      "Epoch: 0\n",
      "---------------------------------------------------\n",
      "Train loss: 0.59534 | Train accuracy: 78.47%\n"
     ]
    },
    {
     "name": "stderr",
     "output_type": "stream",
     "text": [
      " 33%|███████████████                              | 1/3 [01:17<02:35, 77.66s/it]"
     ]
    },
    {
     "name": "stdout",
     "output_type": "stream",
     "text": [
      "Test loss: 0.36434 | Test accuracy: 86.75%\n",
      "Epoch: 1\n",
      "---------------------------------------------------\n",
      "Train loss: 0.35952 | Train accuracy: 87.03%\n"
     ]
    },
    {
     "name": "stderr",
     "output_type": "stream",
     "text": [
      " 67%|██████████████████████████████               | 2/3 [02:38<01:19, 79.27s/it]"
     ]
    },
    {
     "name": "stdout",
     "output_type": "stream",
     "text": [
      "Test loss: 0.35183 | Test accuracy: 87.76%\n",
      "Epoch: 2\n",
      "---------------------------------------------------\n",
      "Train loss: 0.32226 | Train accuracy: 88.30%\n"
     ]
    },
    {
     "name": "stderr",
     "output_type": "stream",
     "text": [
      "100%|█████████████████████████████████████████████| 3/3 [03:57<00:00, 79.31s/it]"
     ]
    },
    {
     "name": "stdout",
     "output_type": "stream",
     "text": [
      "Test loss: 0.31477 | Test accuracy: 88.48%\n",
      "Train time on mps: 237.940 seconds\n"
     ]
    },
    {
     "name": "stderr",
     "output_type": "stream",
     "text": [
      "\n"
     ]
    }
   ],
   "source": [
    "torch.manual_seed(SEED)\n",
    "\n",
    "from timeit import default_timer as timer\n",
    "train_time_start_model_2 = timer()\n",
    "\n",
    "epochs = 3\n",
    "\n",
    "for epoch in tqdm(range(epochs)):\n",
    "    print(f\"Epoch: {epoch}\\n---------------------------------------------------\")\n",
    "\n",
    "    # training step\n",
    "    train_step(\n",
    "    model = model_2,\n",
    "    data_loader = train_dataloader,\n",
    "    loss_fn = loss_fn,\n",
    "    optimizer= optimizer,\n",
    "    accuracy_fn = accuracy_fn,\n",
    "    )\n",
    "\n",
    "\n",
    "    test_step(\n",
    "    model = model_2,\n",
    "    data_loader = train_dataloader,\n",
    "    loss_fn = loss_fn,\n",
    "    accuracy_fn = accuracy_fn,\n",
    "    )\n",
    "\n",
    "\n",
    "train_time_end_model_2 = timer()\n",
    "\n",
    "total_train_time_model_2 = print_train_time(start=train_time_start_model_2,\n",
    "                                           end=train_time_end_model_2,\n",
    "                                           device=device)"
   ]
  },
  {
   "cell_type": "code",
   "execution_count": 37,
   "id": "6d637501-1071-476c-885a-f995debb2105",
   "metadata": {},
   "outputs": [],
   "source": [
    "model_0_results = eval_model(model_0, \n",
    "                             test_dataloader, \n",
    "                             loss_fn, \n",
    "                             accuracy_fn)"
   ]
  },
  {
   "cell_type": "code",
   "execution_count": 38,
   "id": "52ceaa92-01ed-4278-b3b2-eabf40dd9428",
   "metadata": {},
   "outputs": [
    {
     "data": {
      "text/plain": [
       "{'model_name': 'FashionMNISTModelV2',\n",
       " 'model_loss': 0.34508776664733887,\n",
       " 'model_acc': 87.18051118210863}"
      ]
     },
     "execution_count": 38,
     "metadata": {},
     "output_type": "execute_result"
    }
   ],
   "source": [
    "model_2_results = eval_model(model_2,\n",
    "           test_dataloader,\n",
    "           loss_fn,\n",
    "           accuracy_fn)\n",
    "\n",
    "model_2_results"
   ]
  },
  {
   "cell_type": "code",
   "execution_count": 41,
   "id": "a6a6e06c-cc15-44bc-b40b-a0e919e657c3",
   "metadata": {},
   "outputs": [
    {
     "data": {
      "text/html": [
       "<div>\n",
       "<style scoped>\n",
       "    .dataframe tbody tr th:only-of-type {\n",
       "        vertical-align: middle;\n",
       "    }\n",
       "\n",
       "    .dataframe tbody tr th {\n",
       "        vertical-align: top;\n",
       "    }\n",
       "\n",
       "    .dataframe thead th {\n",
       "        text-align: right;\n",
       "    }\n",
       "</style>\n",
       "<table border=\"1\" class=\"dataframe\">\n",
       "  <thead>\n",
       "    <tr style=\"text-align: right;\">\n",
       "      <th></th>\n",
       "      <th>model_name</th>\n",
       "      <th>model_loss</th>\n",
       "      <th>model_acc</th>\n",
       "      <th>training_time</th>\n",
       "    </tr>\n",
       "  </thead>\n",
       "  <tbody>\n",
       "    <tr>\n",
       "      <th>0</th>\n",
       "      <td>FashionMNISTModelV0</td>\n",
       "      <td>0.466435</td>\n",
       "      <td>83.576278</td>\n",
       "      <td>40.379189</td>\n",
       "    </tr>\n",
       "    <tr>\n",
       "      <th>1</th>\n",
       "      <td>FashionMNISTModelV1</td>\n",
       "      <td>0.660450</td>\n",
       "      <td>76.088259</td>\n",
       "      <td>257.639633</td>\n",
       "    </tr>\n",
       "    <tr>\n",
       "      <th>2</th>\n",
       "      <td>FashionMNISTModelV2</td>\n",
       "      <td>0.345088</td>\n",
       "      <td>87.180511</td>\n",
       "      <td>237.940437</td>\n",
       "    </tr>\n",
       "  </tbody>\n",
       "</table>\n",
       "</div>"
      ],
      "text/plain": [
       "            model_name  model_loss  model_acc  training_time\n",
       "0  FashionMNISTModelV0    0.466435  83.576278      40.379189\n",
       "1  FashionMNISTModelV1    0.660450  76.088259     257.639633\n",
       "2  FashionMNISTModelV2    0.345088  87.180511     237.940437"
      ]
     },
     "execution_count": 41,
     "metadata": {},
     "output_type": "execute_result"
    }
   ],
   "source": [
    "import pandas as pd\n",
    "\n",
    "compare_results = pd.DataFrame([model_0_results, model_1_results, model_2_results])\n",
    "\n",
    "compare_results[\"training_time\"] = [total_train_time_model_0,\n",
    "                                    total_train_time_model_1,\n",
    "                                    total_train_time_model_2]\n",
    "compare_results"
   ]
  },
  {
   "cell_type": "code",
   "execution_count": 42,
   "id": "7f697894-6d8a-422e-919f-d04aaf0ca13f",
   "metadata": {},
   "outputs": [
    {
     "data": {
      "image/png": "[encoded data removed]",
      "text/plain": [
       "<Figure size 640x480 with 1 Axes>"
      ]
     },
     "metadata": {},
     "output_type": "display_data"
    }
   ],
   "source": [
    "compare_results.set_index(\"model_name\")[\"model_acc\"].plot(kind=\"barh\")\n",
    "plt.xlabel(\"accuracy (%)\")\n",
    "plt.ylabel(\"model\");"
   ]
  },
  {
   "cell_type": "code",
   "execution_count": 43,
   "id": "40b68221-fe23-4aec-bca5-ededbe18e5ec",
   "metadata": {},
   "outputs": [],
   "source": [
    "def make_predictions(model: torch.nn.Module, data: list, device: torch.device = device):\n",
    "    pred_probs = []\n",
    "\n",
    "    model.eval()\n",
    "\n",
    "    with torch.inference_mode():\n",
    "        for sample in data:\n",
    "            sample = torch.unsqueeze(sample, dim=0).to(device)\n",
    "\n",
    "            pred_logit = model(sample)\n",
    "\n",
    "            pred_prob = torch.softmax(pred_logit.squeeze(), dim=0)\n",
    "\n",
    "            pred_probs.append(pred_prob.cpu())\n",
    "\n",
    "\n",
    "    return torch.stack(pred_probs)"
   ]
  },
  {
   "cell_type": "code",
   "execution_count": 44,
   "id": "a969f76d-84fa-4b51-a87b-7c71e2fe5c6c",
   "metadata": {},
   "outputs": [
    {
     "name": "stdout",
     "output_type": "stream",
     "text": [
      "Test sample image shape: torch.Size([1, 28, 28])\n",
      "Test sample label: 5 (Sandal)\n"
     ]
    }
   ],
   "source": [
    "import random\n",
    "\n",
    "random.seed(SEED)\n",
    "\n",
    "test_samples = []\n",
    "test_labels = []\n",
    "\n",
    "for sample, label in random.sample(list(test_data), k=9):\n",
    "    test_samples.append(sample)\n",
    "    test_labels.append(label)\n",
    "\n",
    "# View the first test sample shape and label\n",
    "print(f\"Test sample image shape: {test_samples[0].shape}\\nTest sample label: {test_labels[0]} ({class_names[test_labels[0]]})\")"
   ]
  },
  {
   "cell_type": "code",
   "execution_count": 45,
   "id": "ef560622-20cb-48a9-9575-7e7130da6a36",
   "metadata": {},
   "outputs": [
    {
     "data": {
      "text/plain": [
       "tensor([[1.9771e-07, 2.8045e-08, 4.0700e-08, 2.3875e-08, 4.5320e-09, 9.9906e-01,\n",
       "         2.4455e-08, 4.9281e-05, 2.5808e-05, 8.6484e-04],\n",
       "        [2.1811e-02, 8.8364e-01, 1.1056e-03, 5.8200e-02, 1.7922e-02, 1.0433e-05,\n",
       "         1.6886e-02, 2.2139e-04, 1.1875e-04, 8.7402e-05]])"
      ]
     },
     "execution_count": 45,
     "metadata": {},
     "output_type": "execute_result"
    }
   ],
   "source": [
    "# Make predictions on test samples with model 2\n",
    "pred_probs= make_predictions(model=model_2, \n",
    "                             data=test_samples)\n",
    "\n",
    "# View first two prediction probabilities list\n",
    "pred_probs[:2]"
   ]
  },
  {
   "cell_type": "code",
   "execution_count": 46,
   "id": "d7c9fd07-2625-48ed-b05a-8a86e189bdbd",
   "metadata": {},
   "outputs": [
    {
     "data": {
      "text/plain": [
       "tensor([[1.9771e-07, 2.8045e-08, 4.0700e-08, 2.3875e-08, 4.5320e-09, 9.9906e-01,\n",
       "         2.4455e-08, 4.9281e-05, 2.5808e-05, 8.6484e-04],\n",
       "        [2.1811e-02, 8.8364e-01, 1.1056e-03, 5.8200e-02, 1.7922e-02, 1.0433e-05,\n",
       "         1.6886e-02, 2.2139e-04, 1.1875e-04, 8.7402e-05]])"
      ]
     },
     "execution_count": 46,
     "metadata": {},
     "output_type": "execute_result"
    }
   ],
   "source": [
    "# Make predictions on test samples with model 2\n",
    "pred_probs= make_predictions(model=model_2, \n",
    "                             data=test_samples)\n",
    "\n",
    "# View first two prediction probabilities list\n",
    "pred_probs[:2]"
   ]
  },
  {
   "cell_type": "code",
   "execution_count": 47,
   "id": "da72f8ba-408f-4b34-b5e3-af07cdbdbee1",
   "metadata": {},
   "outputs": [],
   "source": [
    "pred_classes = pred_probs.argmax(dim=1)"
   ]
  },
  {
   "cell_type": "code",
   "execution_count": 48,
   "id": "462ec886-d2fd-4e64-b838-abb4650327f1",
   "metadata": {},
   "outputs": [
    {
     "data": {
      "text/plain": [
       "tensor([5, 1, 7, 2, 3, 0, 4, 7, 1])"
      ]
     },
     "execution_count": 48,
     "metadata": {},
     "output_type": "execute_result"
    }
   ],
   "source": [
    "pred_classes"
   ]
  },
  {
   "cell_type": "code",
   "execution_count": 49,
   "id": "894a265c-b656-4c39-8a37-2e2d126f6727",
   "metadata": {},
   "outputs": [
    {
     "data": {
      "image/png": "[encoded data removed]",
      "text/plain": [
       "<Figure size 900x900 with 9 Axes>"
      ]
     },
     "metadata": {},
     "output_type": "display_data"
    }
   ],
   "source": [
    "# Plot predictions\n",
    "plt.figure(figsize=(9, 9))\n",
    "nrows = 3\n",
    "ncols = 3\n",
    "for i, sample in enumerate(test_samples):\n",
    "  # Create a subplot\n",
    "  plt.subplot(nrows, ncols, i+1)\n",
    "\n",
    "  # Plot the target image\n",
    "  plt.imshow(sample.squeeze(), cmap=\"gray\")\n",
    "\n",
    "  # Find the prediction label (in text form, e.g. \"Sandal\")\n",
    "  pred_label = class_names[pred_classes[i]]\n",
    "\n",
    "  # Get the truth label (in text form, e.g. \"T-shirt\")\n",
    "  truth_label = class_names[test_labels[i]] \n",
    "\n",
    "  # Create the title text of the plot\n",
    "  title_text = f\"Pred: {pred_label} | Truth: {truth_label}\"\n",
    "  \n",
    "  # Check for equality and change title colour accordingly\n",
    "  if pred_label == truth_label:\n",
    "      plt.title(title_text, fontsize=10, c=\"g\") # green text if correct\n",
    "  else:\n",
    "      plt.title(title_text, fontsize=10, c=\"r\") # red text if wrong\n",
    "  plt.axis(False);"
   ]
  },
  {
   "cell_type": "code",
   "execution_count": 50,
   "id": "499588f8-ef37-443b-963b-624f50c2909c",
   "metadata": {},
   "outputs": [
    {
     "name": "stderr",
     "output_type": "stream",
     "text": [
      "Making predictions: 100%|█████████████████████| 313/313 [00:03<00:00, 90.99it/s]\n"
     ]
    }
   ],
   "source": [
    "# Import tqdm for progress bar\n",
    "from tqdm.auto import tqdm\n",
    "\n",
    "# 1. Make predictions with trained model\n",
    "y_preds = []\n",
    "model_2.eval()\n",
    "with torch.inference_mode():\n",
    "  for X, y in tqdm(test_dataloader, desc=\"Making predictions\"):\n",
    "    # Send data and targets to target device\n",
    "    X, y = X.to(device), y.to(device)\n",
    "    # Do the forward pass\n",
    "    y_logit = model_2(X)\n",
    "    # Turn predictions from logits -> prediction probabilities -> predictions labels\n",
    "    y_pred = torch.softmax(y_logit, dim=1).argmax(dim=1) # note: perform softmax on the \"logits\" dimension, not \"batch\" dimension (in this case we have a batch size of 32, so can perform on dim=1)\n",
    "    # Put predictions on CPU for evaluation\n",
    "    y_preds.append(y_pred.cpu())\n",
    "# Concatenate list of predictions into a tensor\n",
    "y_pred_tensor = torch.cat(y_preds)"
   ]
  },
  {
   "cell_type": "code",
   "execution_count": 52,
   "id": "392041b9-451b-4b14-ae98-d7ddbbf271ba",
   "metadata": {},
   "outputs": [
    {
     "name": "stdout",
     "output_type": "stream",
     "text": [
      "0.23.4\n"
     ]
    }
   ],
   "source": [
    "import mlxtend \n",
    "print(mlxtend.__version__)"
   ]
  },
  {
   "cell_type": "code",
   "execution_count": 53,
   "id": "53a0fb09-3586-4200-bdd2-934c49001a9e",
   "metadata": {},
   "outputs": [],
   "source": [
    "from torchmetrics import ConfusionMatrix\n",
    "from mlxtend.plotting import plot_confusion_matrix"
   ]
  },
  {
   "cell_type": "code",
   "execution_count": 56,
   "id": "9ba430b2-50c0-4aaf-9e49-ef943c2f9fd8",
   "metadata": {},
   "outputs": [
    {
     "data": {
      "image/png": "[encoded data removed]",
      "text/plain": [
       "<Figure size 1000x700 with 1 Axes>"
      ]
     },
     "metadata": {},
     "output_type": "display_data"
    }
   ],
   "source": [
    "confmat = ConfusionMatrix(num_classes=len(class_names), task='multiclass')\n",
    "confmat_tensor = confmat(preds=y_pred_tensor, target=test_data.targets)\n",
    "\n",
    "fig, ax = plot_confusion_matrix(conf_mat=confmat_tensor.numpy(),\n",
    "                               class_names=class_names,\n",
    "                               figsize=(10, 7))"
   ]
  },
  {
   "cell_type": "code",
   "execution_count": 57,
   "id": "c3eca741-9ee7-495e-b720-a07569677a10",
   "metadata": {},
   "outputs": [
    {
     "name": "stdout",
     "output_type": "stream",
     "text": [
      "Saving model to: models/03_pytorch_computer_vision_model_2.pth\n"
     ]
    }
   ],
   "source": [
    "from pathlib import Path\n",
    "\n",
    "MODEL_PATH = Path(\"models\")\n",
    "MODEL_PATH.mkdir(parents=True, exist_ok=True)\n",
    "\n",
    "MODEL_NAME = \"03_pytorch_computer_vision_model_2.pth\"\n",
    "MODEL_SAVE_PATH = MODEL_PATH / MODEL_NAME\n",
    "\n",
    "print(f\"Saving model to: {MODEL_SAVE_PATH}\")\n",
    "torch.save(obj=model_2.state_dict(), f=MODEL_SAVE_PATH)"
   ]
  },
  {
   "cell_type": "code",
   "execution_count": 60,
   "id": "8a91e18b-14e3-46fc-9ed7-fab18f87143f",
   "metadata": {},
   "outputs": [],
   "source": [
    "loaded_model_2 = FashionMNISTModelV2(input_shape=1, \n",
    "                                     hidden_units=10, \n",
    "                                     output_shape=10)"
   ]
  },
  {
   "cell_type": "code",
   "execution_count": 61,
   "id": "fc72692b-f52a-4bb3-8b2f-914e8a6cecf7",
   "metadata": {},
   "outputs": [],
   "source": [
    "loaded_model_2.load_state_dict(torch.load(f=MODEL_SAVE_PATH))\n",
    "\n",
    "loaded_model_2 = loaded_model_2.to(device)"
   ]
  },
  {
   "cell_type": "code",
   "execution_count": 63,
   "id": "59edb998-17ba-4ad9-bf8d-efea50d63db5",
   "metadata": {},
   "outputs": [
    {
     "data": {
      "text/plain": [
       "{'model_name': 'FashionMNISTModelV2',\n",
       " 'model_loss': 0.34508776664733887,\n",
       " 'model_acc': 87.18051118210863}"
      ]
     },
     "execution_count": 63,
     "metadata": {},
     "output_type": "execute_result"
    }
   ],
   "source": [
    "# Evaluate loaded model\n",
    "torch.manual_seed(42)\n",
    "\n",
    "loaded_model_2_results = eval_model(\n",
    "    model=loaded_model_2,\n",
    "    data_loader=test_dataloader,\n",
    "    loss_fn=loss_fn, \n",
    "    accuracy_fn=accuracy_fn\n",
    ")\n",
    "\n",
    "loaded_model_2_results"
   ]
  },
  {
   "cell_type": "code",
   "execution_count": 65,
   "id": "454ddff2-89a8-45a4-9537-d98414623635",
   "metadata": {},
   "outputs": [
    {
     "data": {
      "text/plain": [
       "tensor(True)"
      ]
     },
     "execution_count": 65,
     "metadata": {},
     "output_type": "execute_result"
    }
   ],
   "source": [
    "torch.isclose(torch.tensor(model_2_results[\"model_loss\"]), \n",
    "              torch.tensor(loaded_model_2_results[\"model_loss\"]),\n",
    "              atol=1e-08, # absolute tolerance\n",
    "              rtol=0.0001) # relative tolerance"
   ]
  },
  {
   "cell_type": "code",
   "execution_count": null,
   "id": "c029074b-24fb-4e7a-91b2-b8549c95e8e8",
   "metadata": {},
   "outputs": [],
   "source": []
  }
 ],
 "metadata": {
  "kernelspec": {
   "display_name": "Python (env_pytorch)",
   "language": "python",
   "name": "env_pytorch"
  },
  "language_info": {
   "codemirror_mode": {
    "name": "ipython",
    "version": 3
   },
   "file_extension": ".py",
   "mimetype": "text/x-python",
   "name": "python",
   "nbconvert_exporter": "python",
   "pygments_lexer": "ipython3",
   "version": "3.9.23"
  }
 },
 "nbformat": 4,
 "nbformat_minor": 5
}
