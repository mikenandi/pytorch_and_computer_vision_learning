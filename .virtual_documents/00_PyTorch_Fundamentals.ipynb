


import torch
import numpy as np
import matplotlib.pyplot as pylt
import pandas

print(torch.__version__)








scalar = torch.tensor(7)
print(f'value of the tensor: {scalar.item()}')
print(f'Dimensions of the tensor: {scalar.ndim}')





vector = torch.tensor([8, 7])
print(f'Dimension of the vector: {vector.ndim}')
print(f'Shape of the vector: {vector.shape}')





MATRIX = torch.tensor([[7, 9], [0, 9]])

print(f'Dimension of the vector: {MATRIX.ndim}')
print(f'Shape of the vector: {MATRIX.shape}')


# Tensor
TENSOR = torch.tensor([[[1, 2, 3],
                        [3, 6, 9],
                        [2, 4, 5]]])
print(f'Dimension of the vector: {TENSOR.ndim}')
print(f'Shape of the vector: {TENSOR.shape}')











random_tensor = torch.rand(size=(4, 4, 9))
print(f'Shape of the tensor: {random_tensor.shape}')
print(f'Data type: {random_tensor.dtype} \n')

print(random_tensor)


# Create a tensor of all zeros
zeros = torch.zeros(size=(3, 4))
zeros, zeros.dtype


# Create a tensor of all ones
ones = torch.ones(size=(3, 4))
ones, ones.dtype


# zero_to_ten_deprecated = torch.range(0, .9) 


zero_to_ten = torch.arange(start=0, end=11, step=1)
zero_to_ten


zeros_like  = torch.zeros_like(input=zero_to_ten)
zeros_like


float_32_tensor = torch.tensor([3, 6, 9], 
                            dtype=None,
                              device=None,
                              requires_grad=False)

float_32_tensor.shape





# Default tensor (float32)
float_32_tensor = torch.tensor([3.0, 6.0, 9.0])  
print(float_32_tensor.dtype)  # torch.float32

# Half precision (float16)
float_16_tensor = torch.tensor([3.0, 6.0, 9.0], dtype=torch.float16)  
print(float_16_tensor.dtype)  # torch.float16

# Double precision (float64)
float_64_tensor = torch.tensor([3.0, 6.0, 9.0], dtype=torch.float64)  
print(float_64_tensor.dtype, float_64_tensor)  # torch.float64

# Integer tensor (int32)
int_tensor = torch.tensor([1, 2, 3], dtype=torch.int32)  
print(int_tensor.dtype)  # torch.int32

# Boolean tensor
bool_tensor = torch.tensor([True, False, True])  
print(bool_tensor.dtype)  # torch.bool


rand_tensor = torch.rand(3, 4)

print(f'Tensor: {rand_tensor}')
print(f'Shape of the tensor: {rand_tensor.shape}')
print(f'Data type of the tensor: {rand_tensor.dtype}')
print(f'Device which the data is stored on: {rand_tensor.device}')


tensor = torch.ones(4, 4)

print(f'tensor: {tensor} \n')
print(f'First low: {tensor[0]} \n')
print(f'first column: {tensor[:, 1]}')
print(f'last column: {tensor[..., -1]}')
tensor[:, 1] = 0
print(f'Modified tensor now: \n {tensor}')





tensor = torch.tensor([1, 2, 3])
tensor + 10


tensor + 10


tensor * 10





tensor = torch.tensor([1, 2, 5])
tensor.shape, tensor.ndim


tensor * tensor


tensor @ tensor


%%time
# Matrix multiplication by hand 
# (avoid doing operations with for loops at all cost, they are computationally expensive)
value = 0
for i in range(len(tensor)):
  value += tensor[i] * tensor[i]
value


%%time
torch.matmul(tensor, tensor)


# Shapes need to be in the right way  
tensor_A = torch.tensor([[1, 2],
                         [3, 4],
                         [5, 6]], dtype=torch.float32)

# print(f'dim of tensor_A: {tensor_A.shape}')

tensor_B = torch.tensor([[7, 10],
                         [8, 11], 
                         [9, 12]], dtype=torch.float32)

# print(f'dim of tensor_A: {tensor_B.shape}')


matmul = torch.matmul(tensor_A, tensor_B.T)
matmul








torch.manual_seed(42)

linear = torch.nn.Linear(in_features=2, out_features=6)

x = tensor_A
output = linear(x)


print(f"Input shape: {x.shape}\n")
print(f"Output:\n{output}\n\nOutput shape: {output.shape}")


x = torch.arange(0, 100, 100)
print(f"Minimum: {x.min()}")
print(f"Maximum: {x.max()}")
# print(f"Mean: {x.mean()}") # this will error
print(f"Mean: {x.type(torch.float32).mean()}") # won't work without float datatype
print(f"Sum: {x.sum()}")


tensor = torch.arange(10., 100., 10.)
tensor.dtype


tensor_float16 = tensor.type(torch.float16)
tensor_float16


tensor_int8 = tensor.type(torch.int8)
tensor_int8



